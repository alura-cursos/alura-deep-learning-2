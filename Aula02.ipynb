{
  "nbformat": 4,
  "nbformat_minor": 0,
  "metadata": {
    "colab": {
      "name": "Aula02.ipynb",
      "provenance": [],
      "collapsed_sections": [],
      "mount_file_id": "1L6Pm3t1NvNJBH7FOWR4JGlDbAFngpWT1",
      "authorship_tag": "ABX9TyMfqFSyZ1U9v2XD6sNIXxZK",
      "include_colab_link": true
    },
    "kernelspec": {
      "name": "python3",
      "display_name": "Python 3"
    },
    "language_info": {
      "name": "python"
    }
  },
  "cells": [
    {
      "cell_type": "markdown",
      "metadata": {
        "id": "view-in-github",
        "colab_type": "text"
      },
      "source": [
        "<a href=\"https://colab.research.google.com/github/estebanvz/alura-deep-learning-2/blob/clase04/Aula02.ipynb\" target=\"_parent\"><img src=\"https://colab.research.google.com/assets/colab-badge.svg\" alt=\"Open In Colab\"/></a>"
      ]
    },
    {
      "cell_type": "markdown",
      "source": [
        "# Librerias"
      ],
      "metadata": {
        "id": "bCON8tZyYWjk"
      }
    },
    {
      "cell_type": "code",
      "execution_count": null,
      "metadata": {
        "id": "7bRlGtdDYT7D"
      },
      "outputs": [],
      "source": [
        "import tensorflow as tf\n",
        "from tensorflow import keras\n",
        "import numpy as np\n",
        "np.set_printoptions(precision=2, suppress=True)"
      ]
    },
    {
      "cell_type": "markdown",
      "source": [
        "# Dataset y Normalización"
      ],
      "metadata": {
        "id": "TTACnbxDYdvz"
      }
    },
    {
      "cell_type": "code",
      "source": [
        "dataset = keras.datasets.fashion_mnist\n",
        "((img_entrenamiento, etiquetas_entrenamiento),(img_test, etiquetas_test)) = dataset.load_data()\n",
        "img_entrenamiento = img_entrenamiento/255.0\n",
        "img_test = img_test/255.0\n",
        "img_entrenamiento.shape, img_test.shape"
      ],
      "metadata": {
        "colab": {
          "base_uri": "https://localhost:8080/"
        },
        "id": "JRaRF3J0Yclw",
        "outputId": "f604063e-cd25-4e56-ffa8-da8fd124d108"
      },
      "execution_count": null,
      "outputs": [
        {
          "output_type": "stream",
          "name": "stdout",
          "text": [
            "Downloading data from https://storage.googleapis.com/tensorflow/tf-keras-datasets/train-labels-idx1-ubyte.gz\n",
            "32768/29515 [=================================] - 0s 0us/step\n",
            "40960/29515 [=========================================] - 0s 0us/step\n",
            "Downloading data from https://storage.googleapis.com/tensorflow/tf-keras-datasets/train-images-idx3-ubyte.gz\n",
            "26427392/26421880 [==============================] - 0s 0us/step\n",
            "26435584/26421880 [==============================] - 0s 0us/step\n",
            "Downloading data from https://storage.googleapis.com/tensorflow/tf-keras-datasets/t10k-labels-idx1-ubyte.gz\n",
            "16384/5148 [===============================================================================================] - 0s 0us/step\n",
            "Downloading data from https://storage.googleapis.com/tensorflow/tf-keras-datasets/t10k-images-idx3-ubyte.gz\n",
            "4423680/4422102 [==============================] - 0s 0us/step\n",
            "4431872/4422102 [==============================] - 0s 0us/step\n"
          ]
        },
        {
          "output_type": "execute_result",
          "data": {
            "text/plain": [
              "((60000, 28, 28), (10000, 28, 28))"
            ]
          },
          "metadata": {},
          "execution_count": 2
        }
      ]
    },
    {
      "cell_type": "markdown",
      "source": [
        "# Cargar Modelo"
      ],
      "metadata": {
        "id": "HoRvWi9gZDh7"
      }
    },
    {
      "cell_type": "code",
      "source": [
        "modelo_caro = keras.models.load_model(\"/content/drive/MyDrive/alura/deep_learning_2/modelo_inicial_caro.h5\")"
      ],
      "metadata": {
        "id": "JD-16D1sYs8z"
      },
      "execution_count": null,
      "outputs": []
    },
    {
      "cell_type": "code",
      "source": [
        "modelo_caro.summary()"
      ],
      "metadata": {
        "id": "bZiWAbMDZxVf",
        "outputId": "db30ff18-b5cb-45b4-ca21-6f1331c44b38",
        "colab": {
          "base_uri": "https://localhost:8080/"
        }
      },
      "execution_count": null,
      "outputs": [
        {
          "output_type": "stream",
          "name": "stdout",
          "text": [
            "Model: \"sequential_10\"\n",
            "_________________________________________________________________\n",
            " Layer (type)                Output Shape              Param #   \n",
            "=================================================================\n",
            " flatten_10 (Flatten)        (None, 784)               0         \n",
            "                                                                 \n",
            " dense_20 (Dense)            (None, 50)                39250     \n",
            "                                                                 \n",
            " dropout (Dropout)           (None, 50)                0         \n",
            "                                                                 \n",
            " dense_21 (Dense)            (None, 50)                2550      \n",
            "                                                                 \n",
            " dropout_1 (Dropout)         (None, 50)                0         \n",
            "                                                                 \n",
            " dense_22 (Dense)            (None, 10)                510       \n",
            "                                                                 \n",
            "=================================================================\n",
            "Total params: 42,310\n",
            "Trainable params: 42,310\n",
            "Non-trainable params: 0\n",
            "_________________________________________________________________\n"
          ]
        }
      ]
    },
    {
      "cell_type": "markdown",
      "source": [
        "## Modelo Tiny"
      ],
      "metadata": {
        "id": "YtsO7jlFEJgp"
      }
    },
    {
      "cell_type": "code",
      "source": [
        "tiny = keras.Sequential()\n",
        "tiny.add(keras.layers.Input(3,))\n",
        "tiny.add(keras.layers.Dense(3,))\n",
        "tiny.add(keras.layers.Dense(2,))\n",
        "tiny.predict(np.array([[0.5,0.3,0.2]]))"
      ],
      "metadata": {
        "colab": {
          "base_uri": "https://localhost:8080/"
        },
        "id": "jxjcBnijB8TC",
        "outputId": "2b5aff89-4a26-422a-cd84-da35d173fe8c"
      },
      "execution_count": null,
      "outputs": [
        {
          "output_type": "execute_result",
          "data": {
            "text/plain": [
              "array([[-0.74,  0.16]], dtype=float32)"
            ]
          },
          "metadata": {},
          "execution_count": 5
        }
      ]
    },
    {
      "cell_type": "code",
      "source": [
        "tiny.layers[0].get_weights()[0].shape"
      ],
      "metadata": {
        "colab": {
          "base_uri": "https://localhost:8080/"
        },
        "id": "46seGRyAHdbC",
        "outputId": "15a84636-81b5-429e-e2fc-bf08efca9bdc"
      },
      "execution_count": null,
      "outputs": [
        {
          "output_type": "execute_result",
          "data": {
            "text/plain": [
              "(3, 3)"
            ]
          },
          "metadata": {},
          "execution_count": 6
        }
      ]
    },
    {
      "cell_type": "code",
      "source": [
        "tiny.layers[1].get_weights()[0].shape"
      ],
      "metadata": {
        "colab": {
          "base_uri": "https://localhost:8080/"
        },
        "id": "mbUTDyb4HlcX",
        "outputId": "57e0392e-92b0-4abf-dff5-9a5e5709760e"
      },
      "execution_count": null,
      "outputs": [
        {
          "output_type": "execute_result",
          "data": {
            "text/plain": [
              "(3, 2)"
            ]
          },
          "metadata": {},
          "execution_count": 7
        }
      ]
    },
    {
      "cell_type": "code",
      "source": [
        "([0.5,0.3,0.2] @ tiny.layers[0].get_weights()[0]) @ tiny.layers[1].get_weights()[0]"
      ],
      "metadata": {
        "colab": {
          "base_uri": "https://localhost:8080/"
        },
        "id": "rsM3piNAIkNB",
        "outputId": "a65d7b30-a67e-4e4c-ca63-e5c89a74f7bd"
      },
      "execution_count": null,
      "outputs": [
        {
          "output_type": "execute_result",
          "data": {
            "text/plain": [
              "array([-0.74,  0.16])"
            ]
          },
          "metadata": {},
          "execution_count": 8
        }
      ]
    },
    {
      "cell_type": "code",
      "source": [
        "tiny.layers[1].get_weights()"
      ],
      "metadata": {
        "id": "Lmby9adRMAnA",
        "colab": {
          "base_uri": "https://localhost:8080/"
        },
        "outputId": "393d373f-6125-4adf-d410-bf634d506dca"
      },
      "execution_count": null,
      "outputs": [
        {
          "output_type": "execute_result",
          "data": {
            "text/plain": [
              "[array([[-0.87, -0.72],\n",
              "        [ 0.91, -1.08],\n",
              "        [-0.84,  0.03]], dtype=float32), array([0., 0.], dtype=float32)]"
            ]
          },
          "metadata": {},
          "execution_count": 10
        }
      ]
    },
    {
      "cell_type": "markdown",
      "source": [
        "# Bias"
      ],
      "metadata": {
        "id": "Kw0zB7xkBoW5"
      }
    },
    {
      "cell_type": "code",
      "source": [
        "tiny.layers[0].get_weights()[1]"
      ],
      "metadata": {
        "colab": {
          "base_uri": "https://localhost:8080/"
        },
        "id": "TiD3Xo4rBskQ",
        "outputId": "a181036f-46b3-4933-dccb-5437d645b6c5"
      },
      "execution_count": null,
      "outputs": [
        {
          "output_type": "execute_result",
          "data": {
            "text/plain": [
              "array([0., 0., 0.], dtype=float32)"
            ]
          },
          "metadata": {},
          "execution_count": 12
        }
      ]
    },
    {
      "cell_type": "code",
      "source": [
        "tiny.layers[1].get_weights()[1]"
      ],
      "metadata": {
        "colab": {
          "base_uri": "https://localhost:8080/"
        },
        "id": "NaZxCmVI5ATI",
        "outputId": "88670b1d-9b44-46e8-bf77-03bc770f5746"
      },
      "execution_count": null,
      "outputs": [
        {
          "output_type": "execute_result",
          "data": {
            "text/plain": [
              "array([0., 0.], dtype=float32)"
            ]
          },
          "metadata": {},
          "execution_count": 13
        }
      ]
    },
    {
      "cell_type": "code",
      "source": [
        "tiny.layers[0].get_config()"
      ],
      "metadata": {
        "colab": {
          "base_uri": "https://localhost:8080/"
        },
        "id": "ZJ_P9mpHB9Rh",
        "outputId": "962163f6-dff7-45ea-cf02-ca5ecae40be8"
      },
      "execution_count": null,
      "outputs": [
        {
          "output_type": "execute_result",
          "data": {
            "text/plain": [
              "{'activation': 'linear',\n",
              " 'activity_regularizer': None,\n",
              " 'bias_constraint': None,\n",
              " 'bias_initializer': {'class_name': 'Zeros', 'config': {}},\n",
              " 'bias_regularizer': None,\n",
              " 'dtype': 'float32',\n",
              " 'kernel_constraint': None,\n",
              " 'kernel_initializer': {'class_name': 'GlorotUniform',\n",
              "  'config': {'seed': None}},\n",
              " 'kernel_regularizer': None,\n",
              " 'name': 'dense',\n",
              " 'trainable': True,\n",
              " 'units': 3,\n",
              " 'use_bias': True}"
            ]
          },
          "metadata": {},
          "execution_count": 14
        }
      ]
    },
    {
      "cell_type": "code",
      "source": [
        ""
      ],
      "metadata": {
        "id": "itfYoCDYCYWT"
      },
      "execution_count": null,
      "outputs": []
    }
  ]
}