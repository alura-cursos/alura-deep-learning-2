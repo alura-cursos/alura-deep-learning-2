{
  "nbformat": 4,
  "nbformat_minor": 0,
  "metadata": {
    "colab": {
      "name": "Aula02.ipynb",
      "provenance": [],
      "collapsed_sections": [
        "YtsO7jlFEJgp"
      ],
      "mount_file_id": "1L6Pm3t1NvNJBH7FOWR4JGlDbAFngpWT1",
      "authorship_tag": "ABX9TyMBCPElWyt2pQT5OkypfyPV",
      "include_colab_link": true
    },
    "kernelspec": {
      "name": "python3",
      "display_name": "Python 3"
    },
    "language_info": {
      "name": "python"
    }
  },
  "cells": [
    {
      "cell_type": "markdown",
      "metadata": {
        "id": "view-in-github",
        "colab_type": "text"
      },
      "source": [
        "<a href=\"https://colab.research.google.com/github/estebanvz/alura-deep-learning-2/blob/clase06/Aula02.ipynb\" target=\"_parent\"><img src=\"https://colab.research.google.com/assets/colab-badge.svg\" alt=\"Open In Colab\"/></a>"
      ]
    },
    {
      "cell_type": "markdown",
      "source": [
        "# Librerias"
      ],
      "metadata": {
        "id": "bCON8tZyYWjk"
      }
    },
    {
      "cell_type": "code",
      "execution_count": 1,
      "metadata": {
        "id": "7bRlGtdDYT7D"
      },
      "outputs": [],
      "source": [
        "import tensorflow as tf\n",
        "from tensorflow import keras\n",
        "import numpy as np\n",
        "import matplotlib.pyplot as plt\n",
        "np.set_printoptions(precision=2, suppress=True)"
      ]
    },
    {
      "cell_type": "markdown",
      "source": [
        "# Dataset y Normalización"
      ],
      "metadata": {
        "id": "TTACnbxDYdvz"
      }
    },
    {
      "cell_type": "code",
      "source": [
        "dataset = keras.datasets.fashion_mnist\n",
        "((img_entrenamiento, etiquetas_entrenamiento),(img_test, etiquetas_test)) = dataset.load_data()\n",
        "img_entrenamiento = img_entrenamiento/255.0\n",
        "img_test = img_test/255.0\n",
        "img_entrenamiento.shape, img_test.shape"
      ],
      "metadata": {
        "colab": {
          "base_uri": "https://localhost:8080/"
        },
        "id": "JRaRF3J0Yclw",
        "outputId": "a8c49ca6-b16c-4086-fdd8-0e54859b1ca8"
      },
      "execution_count": 2,
      "outputs": [
        {
          "output_type": "execute_result",
          "data": {
            "text/plain": [
              "((60000, 28, 28), (10000, 28, 28))"
            ]
          },
          "metadata": {},
          "execution_count": 2
        }
      ]
    },
    {
      "cell_type": "markdown",
      "source": [
        "# Cargar Modelo"
      ],
      "metadata": {
        "id": "HoRvWi9gZDh7"
      }
    },
    {
      "cell_type": "code",
      "source": [
        "modelo_caro = keras.models.load_model(\"/content/drive/MyDrive/alura/deep_learning_2/modelo_inicial_caro.h5\")"
      ],
      "metadata": {
        "id": "JD-16D1sYs8z"
      },
      "execution_count": 3,
      "outputs": []
    },
    {
      "cell_type": "code",
      "source": [
        "modelo_caro.summary()"
      ],
      "metadata": {
        "id": "bZiWAbMDZxVf",
        "outputId": "66e288c5-cb64-44b0-a4a3-4426d451322d",
        "colab": {
          "base_uri": "https://localhost:8080/"
        }
      },
      "execution_count": 4,
      "outputs": [
        {
          "output_type": "stream",
          "name": "stdout",
          "text": [
            "Model: \"sequential_10\"\n",
            "_________________________________________________________________\n",
            " Layer (type)                Output Shape              Param #   \n",
            "=================================================================\n",
            " flatten_10 (Flatten)        (None, 784)               0         \n",
            "                                                                 \n",
            " dense_20 (Dense)            (None, 50)                39250     \n",
            "                                                                 \n",
            " dropout (Dropout)           (None, 50)                0         \n",
            "                                                                 \n",
            " dense_21 (Dense)            (None, 50)                2550      \n",
            "                                                                 \n",
            " dropout_1 (Dropout)         (None, 50)                0         \n",
            "                                                                 \n",
            " dense_22 (Dense)            (None, 10)                510       \n",
            "                                                                 \n",
            "=================================================================\n",
            "Total params: 42,310\n",
            "Trainable params: 42,310\n",
            "Non-trainable params: 0\n",
            "_________________________________________________________________\n"
          ]
        }
      ]
    },
    {
      "cell_type": "markdown",
      "source": [
        "# Modelo Tiny"
      ],
      "metadata": {
        "id": "YtsO7jlFEJgp"
      }
    },
    {
      "cell_type": "code",
      "source": [
        "tiny = keras.Sequential()\n",
        "tiny.add(keras.layers.Input(3,))\n",
        "tiny.add(keras.layers.Dense(3,kernel_initializer=\"GlorotNormal\"))\n",
        "tiny.add(keras.layers.Dense(2,))\n",
        "tiny.predict(np.array([[0.5,0.3,0.2]]))"
      ],
      "metadata": {
        "colab": {
          "base_uri": "https://localhost:8080/"
        },
        "id": "jxjcBnijB8TC",
        "outputId": "c66decca-495a-4874-b03b-74bff3da5dc3"
      },
      "execution_count": 20,
      "outputs": [
        {
          "output_type": "execute_result",
          "data": {
            "text/plain": [
              "array([[0.26, 0.07]], dtype=float32)"
            ]
          },
          "metadata": {},
          "execution_count": 20
        }
      ]
    },
    {
      "cell_type": "code",
      "source": [
        "tiny.layers[0].get_weights()[0].shape"
      ],
      "metadata": {
        "colab": {
          "base_uri": "https://localhost:8080/"
        },
        "id": "46seGRyAHdbC",
        "outputId": "ddbb3a63-d7cc-4d2e-8668-774a906badd6"
      },
      "execution_count": null,
      "outputs": [
        {
          "output_type": "execute_result",
          "data": {
            "text/plain": [
              "(3, 3)"
            ]
          },
          "metadata": {},
          "execution_count": 100
        }
      ]
    },
    {
      "cell_type": "code",
      "source": [
        "tiny.layers[1].get_weights()[0].shape"
      ],
      "metadata": {
        "colab": {
          "base_uri": "https://localhost:8080/"
        },
        "id": "mbUTDyb4HlcX",
        "outputId": "31ff62ee-57e7-446f-8115-c74ed812e2b3"
      },
      "execution_count": null,
      "outputs": [
        {
          "output_type": "execute_result",
          "data": {
            "text/plain": [
              "(3, 2)"
            ]
          },
          "metadata": {},
          "execution_count": 101
        }
      ]
    },
    {
      "cell_type": "code",
      "source": [
        "([0.5,0.3,0.2] @ tiny.layers[0].get_weights()[0]) @ tiny.layers[1].get_weights()[0]"
      ],
      "metadata": {
        "colab": {
          "base_uri": "https://localhost:8080/"
        },
        "id": "rsM3piNAIkNB",
        "outputId": "9bcded64-90c7-4ef6-b06c-df44c0c4b49f"
      },
      "execution_count": null,
      "outputs": [
        {
          "output_type": "execute_result",
          "data": {
            "text/plain": [
              "array([-0.05,  0.1 ])"
            ]
          },
          "metadata": {},
          "execution_count": 102
        }
      ]
    },
    {
      "cell_type": "code",
      "source": [
        "tiny.layers[1].get_weights()"
      ],
      "metadata": {
        "id": "Lmby9adRMAnA",
        "colab": {
          "base_uri": "https://localhost:8080/"
        },
        "outputId": "787f2a5c-ec4e-461a-9d27-740ba87b507b"
      },
      "execution_count": null,
      "outputs": [
        {
          "output_type": "execute_result",
          "data": {
            "text/plain": [
              "[array([[ 0.63, -0.59],\n",
              "        [-0.44,  0.32],\n",
              "        [-1.02,  1.08]], dtype=float32), array([0., 0.], dtype=float32)]"
            ]
          },
          "metadata": {},
          "execution_count": 103
        }
      ]
    },
    {
      "cell_type": "markdown",
      "source": [
        "## Bias"
      ],
      "metadata": {
        "id": "Kw0zB7xkBoW5"
      }
    },
    {
      "cell_type": "code",
      "source": [
        "tiny.layers[0].get_weights()[1]"
      ],
      "metadata": {
        "colab": {
          "base_uri": "https://localhost:8080/"
        },
        "id": "TiD3Xo4rBskQ",
        "outputId": "a181036f-46b3-4933-dccb-5437d645b6c5"
      },
      "execution_count": null,
      "outputs": [
        {
          "output_type": "execute_result",
          "data": {
            "text/plain": [
              "array([0., 0., 0.], dtype=float32)"
            ]
          },
          "metadata": {},
          "execution_count": 12
        }
      ]
    },
    {
      "cell_type": "code",
      "source": [
        "tiny.layers[1].get_weights()[1]"
      ],
      "metadata": {
        "colab": {
          "base_uri": "https://localhost:8080/"
        },
        "id": "NaZxCmVI5ATI",
        "outputId": "88670b1d-9b44-46e8-bf77-03bc770f5746"
      },
      "execution_count": null,
      "outputs": [
        {
          "output_type": "execute_result",
          "data": {
            "text/plain": [
              "array([0., 0.], dtype=float32)"
            ]
          },
          "metadata": {},
          "execution_count": 13
        }
      ]
    },
    {
      "cell_type": "code",
      "source": [
        "tiny.layers[0].get_config()"
      ],
      "metadata": {
        "colab": {
          "base_uri": "https://localhost:8080/"
        },
        "id": "ZJ_P9mpHB9Rh",
        "outputId": "d061d7ef-b074-44a6-d5f7-6db0a04df813"
      },
      "execution_count": 21,
      "outputs": [
        {
          "output_type": "execute_result",
          "data": {
            "text/plain": [
              "{'activation': 'linear',\n",
              " 'activity_regularizer': None,\n",
              " 'bias_constraint': None,\n",
              " 'bias_initializer': {'class_name': 'Zeros', 'config': {}},\n",
              " 'bias_regularizer': None,\n",
              " 'dtype': 'float32',\n",
              " 'kernel_constraint': None,\n",
              " 'kernel_initializer': {'class_name': 'GlorotNormal',\n",
              "  'config': {'seed': None}},\n",
              " 'kernel_regularizer': None,\n",
              " 'name': 'dense_3',\n",
              " 'trainable': True,\n",
              " 'units': 3,\n",
              " 'use_bias': True}"
            ]
          },
          "metadata": {},
          "execution_count": 21
        }
      ]
    },
    {
      "cell_type": "code",
      "source": [
        "tiny.layers[0].get_weights()"
      ],
      "metadata": {
        "colab": {
          "base_uri": "https://localhost:8080/"
        },
        "id": "caHQFUOty4sL",
        "outputId": "ab3c2c5c-b85c-40d9-d8fc-8d95a9cb018c"
      },
      "execution_count": null,
      "outputs": [
        {
          "output_type": "execute_result",
          "data": {
            "text/plain": [
              "[array([[-0.73,  0.11,  0.58],\n",
              "        [-0.44, -0.57, -0.67],\n",
              "        [-0.73,  0.8 , -0.36]], dtype=float32),\n",
              " array([0., 0., 0.], dtype=float32)]"
            ]
          },
          "metadata": {},
          "execution_count": 87
        }
      ]
    },
    {
      "cell_type": "markdown",
      "source": [
        "# Modificando pesos"
      ],
      "metadata": {
        "id": "yf7mh6XJSTun"
      }
    },
    {
      "cell_type": "code",
      "source": [
        "pesos = modelo_caro.get_weights()\n",
        "len(pesos)"
      ],
      "metadata": {
        "colab": {
          "base_uri": "https://localhost:8080/"
        },
        "id": "xdtTJijISVSy",
        "outputId": "ecccc607-df5a-4f0b-ed7c-9224f32df7de"
      },
      "execution_count": 5,
      "outputs": [
        {
          "output_type": "execute_result",
          "data": {
            "text/plain": [
              "6"
            ]
          },
          "metadata": {},
          "execution_count": 5
        }
      ]
    },
    {
      "cell_type": "code",
      "source": [
        "for element in pesos:\n",
        "  print(\"Estructura: {}\".format(element.shape))"
      ],
      "metadata": {
        "colab": {
          "base_uri": "https://localhost:8080/"
        },
        "id": "7VmsnNaSScYI",
        "outputId": "d20294fd-747f-4f25-f67a-36966f52a786"
      },
      "execution_count": 6,
      "outputs": [
        {
          "output_type": "stream",
          "name": "stdout",
          "text": [
            "Estructura: (784, 50)\n",
            "Estructura: (50,)\n",
            "Estructura: (50, 50)\n",
            "Estructura: (50,)\n",
            "Estructura: (50, 10)\n",
            "Estructura: (10,)\n"
          ]
        }
      ]
    },
    {
      "cell_type": "code",
      "source": [
        "modelo_caro.evaluate(img_test, etiquetas_test)"
      ],
      "metadata": {
        "colab": {
          "base_uri": "https://localhost:8080/"
        },
        "id": "Q8D1WxOcS-Gk",
        "outputId": "fa3cdfe0-f6bd-4e4d-d24a-05da3c9611b6"
      },
      "execution_count": 7,
      "outputs": [
        {
          "output_type": "stream",
          "name": "stdout",
          "text": [
            "313/313 [==============================] - 1s 2ms/step - loss: 0.4941 - accuracy: 0.8255\n"
          ]
        },
        {
          "output_type": "execute_result",
          "data": {
            "text/plain": [
              "[0.49411362409591675, 0.8255000114440918]"
            ]
          },
          "metadata": {},
          "execution_count": 7
        }
      ]
    },
    {
      "cell_type": "code",
      "source": [
        "nuevos_pesos=[]\n",
        "for element in pesos:\n",
        "  nuevos_pesos.append( np.zeros( element.shape ) )"
      ],
      "metadata": {
        "id": "xz3tAn1XTT39"
      },
      "execution_count": 8,
      "outputs": []
    },
    {
      "cell_type": "code",
      "source": [
        "modelo_caro.set_weights( nuevos_pesos )\n",
        "modelo_caro.evaluate(img_test, etiquetas_test)"
      ],
      "metadata": {
        "colab": {
          "base_uri": "https://localhost:8080/"
        },
        "id": "VtREWGxMTj49",
        "outputId": "c2b864a7-10cc-4dbb-cbbb-6f68eefc6651"
      },
      "execution_count": 9,
      "outputs": [
        {
          "output_type": "stream",
          "name": "stdout",
          "text": [
            "313/313 [==============================] - 1s 3ms/step - loss: 2.5835 - accuracy: 0.1052\n"
          ]
        },
        {
          "output_type": "execute_result",
          "data": {
            "text/plain": [
              "[2.583512544631958, 0.10520000010728836]"
            ]
          },
          "metadata": {},
          "execution_count": 9
        }
      ]
    },
    {
      "cell_type": "code",
      "source": [
        "modelo_caro.compile(loss=\"sparse_categorical_crossentropy\", metrics=\"accuracy\")\n",
        "logs = modelo_caro.fit(\n",
        "    img_entrenamiento,\n",
        "    etiquetas_entrenamiento,\n",
        "    validation_split=0.1,\n",
        "    epochs=30\n",
        ")"
      ],
      "metadata": {
        "id": "QJQRVZ8DTo5m"
      },
      "execution_count": null,
      "outputs": []
    },
    {
      "cell_type": "code",
      "source": [
        "plt.plot(logs.history[\"accuracy\"])\n",
        "plt.plot(logs.history[\"val_accuracy\"])"
      ],
      "metadata": {
        "colab": {
          "base_uri": "https://localhost:8080/",
          "height": 284
        },
        "id": "75pdc3TjVBbQ",
        "outputId": "8de0e414-0437-4eb7-ee9e-5f73d3ceff70"
      },
      "execution_count": 78,
      "outputs": [
        {
          "output_type": "execute_result",
          "data": {
            "text/plain": [
              "[<matplotlib.lines.Line2D at 0x7f887dbe2990>]"
            ]
          },
          "metadata": {},
          "execution_count": 78
        },
        {
          "output_type": "display_data",
          "data": {
            "text/plain": [
              "<Figure size 432x288 with 1 Axes>"
            ],
            "image/png": "[encoded data removed]"
          },
          "metadata": {
            "needs_background": "light"
          }
        }
      ]
    },
    {
      "cell_type": "code",
      "source": [
        "plt.plot(logs.history[\"loss\"])\n",
        "plt.plot(logs.history[\"val_loss\"])"
      ],
      "metadata": {
        "colab": {
          "base_uri": "https://localhost:8080/",
          "height": 295
        },
        "id": "2UYTdsuRVfjU",
        "outputId": "2f8565c9-3fce-4da1-8878-341bf20f2e4b"
      },
      "execution_count": 79,
      "outputs": [
        {
          "output_type": "execute_result",
          "data": {
            "text/plain": [
              "[<matplotlib.lines.Line2D at 0x7f887db23410>]"
            ]
          },
          "metadata": {},
          "execution_count": 79
        },
        {
          "output_type": "display_data",
          "data": {
            "text/plain": [
              "<Figure size 432x288 with 1 Axes>"
            ],
            "image/png": "[encoded data removed]"
          },
          "metadata": {
            "needs_background": "light"
          }
        }
      ]
    },
    {
      "cell_type": "code",
      "source": [
        "nuevos_pesos=[]\n",
        "for element in pesos:\n",
        "  nuevos_pesos.append( np.ones( element.shape ) )\n",
        "modelo_caro.set_weights( nuevos_pesos )\n",
        "modelo_caro.evaluate(img_test, etiquetas_test)\n",
        "modelo_caro.compile(loss=\"sparse_categorical_crossentropy\", metrics=\"accuracy\")\n",
        "logs = modelo_caro.fit(\n",
        "    img_entrenamiento,\n",
        "    etiquetas_entrenamiento,\n",
        "    validation_split=0.1,\n",
        "    epochs=30\n",
        ")"
      ],
      "metadata": {
        "colab": {
          "base_uri": "https://localhost:8080/"
        },
        "id": "H7BLEGt3VkJJ",
        "outputId": "d4078544-df2d-4096-c4d5-dea7608489a4"
      },
      "execution_count": 14,
      "outputs": [
        {
          "output_type": "stream",
          "name": "stdout",
          "text": [
            "313/313 [==============================] - 1s 4ms/step - loss: 2.3026 - accuracy: 0.1000\n",
            "Epoch 1/30\n",
            "1688/1688 [==============================] - 6s 3ms/step - loss: 159.1985 - accuracy: 0.1251 - val_loss: 2.0228 - val_accuracy: 0.2360\n",
            "Epoch 2/30\n",
            "1688/1688 [==============================] - 4s 3ms/step - loss: 1.7377 - accuracy: 0.3609 - val_loss: 1.2536 - val_accuracy: 0.5562\n",
            "Epoch 3/30\n",
            "1688/1688 [==============================] - 4s 3ms/step - loss: 1.4843 - accuracy: 0.4726 - val_loss: 1.1201 - val_accuracy: 0.5867\n",
            "Epoch 4/30\n",
            "1688/1688 [==============================] - 4s 2ms/step - loss: 1.4050 - accuracy: 0.5093 - val_loss: 1.1095 - val_accuracy: 0.5503\n",
            "Epoch 5/30\n",
            "1688/1688 [==============================] - 4s 2ms/step - loss: 1.3722 - accuracy: 0.5258 - val_loss: 1.0818 - val_accuracy: 0.5887\n",
            "Epoch 6/30\n",
            "1688/1688 [==============================] - 4s 2ms/step - loss: 1.3545 - accuracy: 0.5379 - val_loss: 1.0438 - val_accuracy: 0.6368\n",
            "Epoch 7/30\n",
            "1688/1688 [==============================] - 4s 3ms/step - loss: 1.3333 - accuracy: 0.5495 - val_loss: 1.0928 - val_accuracy: 0.6105\n",
            "Epoch 8/30\n",
            "1688/1688 [==============================] - 4s 3ms/step - loss: 1.3200 - accuracy: 0.5558 - val_loss: 1.0101 - val_accuracy: 0.6328\n",
            "Epoch 9/30\n",
            "1688/1688 [==============================] - 4s 2ms/step - loss: 1.3192 - accuracy: 0.5593 - val_loss: 0.9294 - val_accuracy: 0.6933\n",
            "Epoch 10/30\n",
            "1688/1688 [==============================] - 4s 3ms/step - loss: 1.3088 - accuracy: 0.5634 - val_loss: 1.0495 - val_accuracy: 0.6177\n",
            "Epoch 11/30\n",
            "1688/1688 [==============================] - 4s 3ms/step - loss: 1.3010 - accuracy: 0.5698 - val_loss: 0.9654 - val_accuracy: 0.6743\n",
            "Epoch 12/30\n",
            "1688/1688 [==============================] - 4s 3ms/step - loss: 1.2849 - accuracy: 0.5719 - val_loss: 1.0241 - val_accuracy: 0.6072\n",
            "Epoch 13/30\n",
            "1688/1688 [==============================] - 4s 3ms/step - loss: 1.2851 - accuracy: 0.5754 - val_loss: 0.9646 - val_accuracy: 0.6680\n",
            "Epoch 14/30\n",
            "1688/1688 [==============================] - 4s 3ms/step - loss: 1.2935 - accuracy: 0.5750 - val_loss: 0.9828 - val_accuracy: 0.6370\n",
            "Epoch 15/30\n",
            "1688/1688 [==============================] - 4s 2ms/step - loss: 1.2811 - accuracy: 0.5778 - val_loss: 1.0497 - val_accuracy: 0.6098\n",
            "Epoch 16/30\n",
            "1688/1688 [==============================] - 4s 3ms/step - loss: 1.2825 - accuracy: 0.5783 - val_loss: 1.0309 - val_accuracy: 0.6297\n",
            "Epoch 17/30\n",
            "1688/1688 [==============================] - 4s 3ms/step - loss: 1.2822 - accuracy: 0.5789 - val_loss: 1.0705 - val_accuracy: 0.6118\n",
            "Epoch 18/30\n",
            "1688/1688 [==============================] - 4s 3ms/step - loss: 1.2974 - accuracy: 0.5810 - val_loss: 0.9914 - val_accuracy: 0.6315\n",
            "Epoch 19/30\n",
            "1688/1688 [==============================] - 5s 3ms/step - loss: 1.2971 - accuracy: 0.5760 - val_loss: 1.0050 - val_accuracy: 0.6253\n",
            "Epoch 20/30\n",
            "1688/1688 [==============================] - 4s 3ms/step - loss: 1.3027 - accuracy: 0.5776 - val_loss: 1.0180 - val_accuracy: 0.6255\n",
            "Epoch 21/30\n",
            "1688/1688 [==============================] - 4s 3ms/step - loss: 1.3001 - accuracy: 0.5756 - val_loss: 1.0611 - val_accuracy: 0.6118\n",
            "Epoch 22/30\n",
            "1688/1688 [==============================] - 4s 3ms/step - loss: 1.3199 - accuracy: 0.5794 - val_loss: 1.0617 - val_accuracy: 0.6078\n",
            "Epoch 23/30\n",
            "1688/1688 [==============================] - 4s 3ms/step - loss: 1.3041 - accuracy: 0.5817 - val_loss: 0.9669 - val_accuracy: 0.6593\n",
            "Epoch 24/30\n",
            "1688/1688 [==============================] - 4s 3ms/step - loss: 1.3090 - accuracy: 0.5833 - val_loss: 1.0144 - val_accuracy: 0.6365\n",
            "Epoch 25/30\n",
            "1688/1688 [==============================] - 4s 3ms/step - loss: 1.3323 - accuracy: 0.5777 - val_loss: 1.0740 - val_accuracy: 0.6210\n",
            "Epoch 26/30\n",
            "1688/1688 [==============================] - 4s 3ms/step - loss: 1.3028 - accuracy: 0.5796 - val_loss: 1.0246 - val_accuracy: 0.6207\n",
            "Epoch 27/30\n",
            "1688/1688 [==============================] - 4s 3ms/step - loss: 1.3116 - accuracy: 0.5761 - val_loss: 1.0202 - val_accuracy: 0.6590\n",
            "Epoch 28/30\n",
            "1688/1688 [==============================] - 4s 3ms/step - loss: 1.3106 - accuracy: 0.5776 - val_loss: 1.0240 - val_accuracy: 0.6270\n",
            "Epoch 29/30\n",
            "1688/1688 [==============================] - 4s 3ms/step - loss: 1.3349 - accuracy: 0.5772 - val_loss: 1.0338 - val_accuracy: 0.6513\n",
            "Epoch 30/30\n",
            "1688/1688 [==============================] - 4s 3ms/step - loss: 1.3249 - accuracy: 0.5764 - val_loss: 1.0634 - val_accuracy: 0.6070\n"
          ]
        }
      ]
    },
    {
      "cell_type": "code",
      "source": [
        "plt.plot(logs.history[\"accuracy\"])\n",
        "plt.plot(logs.history[\"val_accuracy\"])"
      ],
      "metadata": {
        "colab": {
          "base_uri": "https://localhost:8080/",
          "height": 284
        },
        "id": "JkPGTT1tdNN4",
        "outputId": "2e8289a2-f79a-4f27-94c4-f3fcfd7d6f0d"
      },
      "execution_count": 15,
      "outputs": [
        {
          "output_type": "execute_result",
          "data": {
            "text/plain": [
              "[<matplotlib.lines.Line2D at 0x7f49f4d27c90>]"
            ]
          },
          "metadata": {},
          "execution_count": 15
        },
        {
          "output_type": "display_data",
          "data": {
            "text/plain": [
              "<Figure size 432x288 with 1 Axes>"
            ],
            "image/png": "[encoded data removed]"
          },
          "metadata": {
            "needs_background": "light"
          }
        }
      ]
    },
    {
      "cell_type": "code",
      "source": [
        "plt.plot(logs.history[\"loss\"])\n",
        "plt.plot(logs.history[\"val_loss\"])"
      ],
      "metadata": {
        "colab": {
          "base_uri": "https://localhost:8080/",
          "height": 284
        },
        "id": "4NLwc1y_dzdn",
        "outputId": "315c63ed-6588-48be-eb31-86095d1c0670"
      },
      "execution_count": 16,
      "outputs": [
        {
          "output_type": "execute_result",
          "data": {
            "text/plain": [
              "[<matplotlib.lines.Line2D at 0x7f49f8f6afd0>]"
            ]
          },
          "metadata": {},
          "execution_count": 16
        },
        {
          "output_type": "display_data",
          "data": {
            "text/plain": [
              "<Figure size 432x288 with 1 Axes>"
            ],
            "image/png": "[encoded data removed]"
          },
          "metadata": {
            "needs_background": "light"
          }
        }
      ]
    },
    {
      "cell_type": "code",
      "source": [
        "nuevos_pesos=[]\n",
        "for element in pesos:\n",
        "  nuevos_pesos.append( np.random.random( element.shape ) )\n",
        "modelo_caro.set_weights( nuevos_pesos )\n",
        "modelo_caro.evaluate(img_test, etiquetas_test)\n",
        "modelo_caro.compile(loss=\"sparse_categorical_crossentropy\", metrics=\"accuracy\")\n",
        "logs = modelo_caro.fit(\n",
        "    img_entrenamiento,\n",
        "    etiquetas_entrenamiento,\n",
        "    validation_split=0.1,\n",
        "    epochs=30\n",
        ")"
      ],
      "metadata": {
        "colab": {
          "base_uri": "https://localhost:8080/"
        },
        "id": "JxD62hGHd5EB",
        "outputId": "f0870ea7-0753-48f1-b369-d2027a50df81"
      },
      "execution_count": 17,
      "outputs": [
        {
          "output_type": "stream",
          "name": "stdout",
          "text": [
            "313/313 [==============================] - 1s 2ms/step - loss: 14905.3564 - accuracy: 0.1000\n",
            "Epoch 1/30\n",
            "1688/1688 [==============================] - 5s 3ms/step - loss: 1247.2085 - accuracy: 0.1308 - val_loss: 1.9547 - val_accuracy: 0.2760\n",
            "Epoch 2/30\n",
            "1688/1688 [==============================] - 4s 2ms/step - loss: 1.9379 - accuracy: 0.2895 - val_loss: 1.3057 - val_accuracy: 0.5100\n",
            "Epoch 3/30\n",
            "1688/1688 [==============================] - 4s 2ms/step - loss: 1.6027 - accuracy: 0.3956 - val_loss: 1.2040 - val_accuracy: 0.5227\n",
            "Epoch 4/30\n",
            "1688/1688 [==============================] - 4s 2ms/step - loss: 1.5234 - accuracy: 0.4235 - val_loss: 1.1927 - val_accuracy: 0.5207\n",
            "Epoch 5/30\n",
            "1688/1688 [==============================] - 4s 3ms/step - loss: 1.4823 - accuracy: 0.4335 - val_loss: 1.1752 - val_accuracy: 0.5365\n",
            "Epoch 6/30\n",
            "1688/1688 [==============================] - 5s 3ms/step - loss: 1.4645 - accuracy: 0.4389 - val_loss: 1.1612 - val_accuracy: 0.5345\n",
            "Epoch 7/30\n",
            "1688/1688 [==============================] - 5s 3ms/step - loss: 1.4761 - accuracy: 0.4418 - val_loss: 1.1463 - val_accuracy: 0.5355\n",
            "Epoch 8/30\n",
            "1688/1688 [==============================] - 4s 3ms/step - loss: 1.4548 - accuracy: 0.4484 - val_loss: 1.1524 - val_accuracy: 0.5365\n",
            "Epoch 9/30\n",
            "1688/1688 [==============================] - 5s 3ms/step - loss: 1.4435 - accuracy: 0.4514 - val_loss: 1.1755 - val_accuracy: 0.5367\n",
            "Epoch 10/30\n",
            "1688/1688 [==============================] - 5s 3ms/step - loss: 1.4344 - accuracy: 0.4536 - val_loss: 1.1853 - val_accuracy: 0.5282\n",
            "Epoch 11/30\n",
            "1688/1688 [==============================] - 4s 3ms/step - loss: 1.4229 - accuracy: 0.4611 - val_loss: 1.1677 - val_accuracy: 0.5472\n",
            "Epoch 12/30\n",
            "1688/1688 [==============================] - 4s 3ms/step - loss: 1.4179 - accuracy: 0.4607 - val_loss: 1.2051 - val_accuracy: 0.5498\n",
            "Epoch 13/30\n",
            "1688/1688 [==============================] - 4s 2ms/step - loss: 1.4094 - accuracy: 0.4651 - val_loss: 1.1591 - val_accuracy: 0.5330\n",
            "Epoch 14/30\n",
            "1688/1688 [==============================] - 4s 2ms/step - loss: 1.4192 - accuracy: 0.4656 - val_loss: 1.1671 - val_accuracy: 0.5405\n",
            "Epoch 15/30\n",
            "1688/1688 [==============================] - 5s 3ms/step - loss: 1.4312 - accuracy: 0.4655 - val_loss: 1.1465 - val_accuracy: 0.5413\n",
            "Epoch 16/30\n",
            "1688/1688 [==============================] - 4s 3ms/step - loss: 1.4009 - accuracy: 0.4683 - val_loss: 1.1521 - val_accuracy: 0.5438\n",
            "Epoch 17/30\n",
            "1688/1688 [==============================] - 4s 3ms/step - loss: 1.3964 - accuracy: 0.4699 - val_loss: 1.1885 - val_accuracy: 0.5508\n",
            "Epoch 18/30\n",
            "1688/1688 [==============================] - 4s 3ms/step - loss: 1.4278 - accuracy: 0.4681 - val_loss: 1.1476 - val_accuracy: 0.5148\n",
            "Epoch 19/30\n",
            "1688/1688 [==============================] - 4s 3ms/step - loss: 1.4334 - accuracy: 0.4696 - val_loss: 1.1621 - val_accuracy: 0.5425\n",
            "Epoch 20/30\n",
            "1688/1688 [==============================] - 4s 3ms/step - loss: 1.4131 - accuracy: 0.4674 - val_loss: 1.1562 - val_accuracy: 0.5313\n",
            "Epoch 21/30\n",
            "1688/1688 [==============================] - 4s 3ms/step - loss: 1.4236 - accuracy: 0.4681 - val_loss: 1.1732 - val_accuracy: 0.5342\n",
            "Epoch 22/30\n",
            "1688/1688 [==============================] - 4s 2ms/step - loss: 1.4265 - accuracy: 0.4688 - val_loss: 1.1788 - val_accuracy: 0.5348\n",
            "Epoch 23/30\n",
            "1688/1688 [==============================] - 5s 3ms/step - loss: 1.4530 - accuracy: 0.4672 - val_loss: 1.1827 - val_accuracy: 0.5388\n",
            "Epoch 24/30\n",
            "1688/1688 [==============================] - 4s 2ms/step - loss: 1.4243 - accuracy: 0.4696 - val_loss: 1.1729 - val_accuracy: 0.5405\n",
            "Epoch 25/30\n",
            "1688/1688 [==============================] - 4s 2ms/step - loss: 1.4551 - accuracy: 0.4723 - val_loss: 1.1666 - val_accuracy: 0.5428\n",
            "Epoch 26/30\n",
            "1688/1688 [==============================] - 4s 3ms/step - loss: 1.4333 - accuracy: 0.4712 - val_loss: 1.1767 - val_accuracy: 0.5403\n",
            "Epoch 27/30\n",
            "1688/1688 [==============================] - 4s 3ms/step - loss: 1.4313 - accuracy: 0.4727 - val_loss: 1.1876 - val_accuracy: 0.5398\n",
            "Epoch 28/30\n",
            "1688/1688 [==============================] - 4s 3ms/step - loss: 1.4187 - accuracy: 0.4721 - val_loss: 1.1475 - val_accuracy: 0.5520\n",
            "Epoch 29/30\n",
            "1688/1688 [==============================] - 4s 3ms/step - loss: 1.4141 - accuracy: 0.4760 - val_loss: 1.2100 - val_accuracy: 0.5283\n",
            "Epoch 30/30\n",
            "1688/1688 [==============================] - 4s 2ms/step - loss: 1.4591 - accuracy: 0.4744 - val_loss: 1.2604 - val_accuracy: 0.5247\n"
          ]
        }
      ]
    },
    {
      "cell_type": "code",
      "source": [
        "plt.plot(logs.history[\"accuracy\"])\n",
        "plt.plot(logs.history[\"val_accuracy\"])"
      ],
      "metadata": {
        "colab": {
          "base_uri": "https://localhost:8080/",
          "height": 284
        },
        "id": "p60v7FePeCdF",
        "outputId": "e37e33d6-4dbc-4d87-91da-13fada16a3e6"
      },
      "execution_count": 18,
      "outputs": [
        {
          "output_type": "execute_result",
          "data": {
            "text/plain": [
              "[<matplotlib.lines.Line2D at 0x7f49f4e70690>]"
            ]
          },
          "metadata": {},
          "execution_count": 18
        },
        {
          "output_type": "display_data",
          "data": {
            "text/plain": [
              "<Figure size 432x288 with 1 Axes>"
            ],
            "image/png": "[encoded data removed]"
          },
          "metadata": {
            "needs_background": "light"
          }
        }
      ]
    },
    {
      "cell_type": "code",
      "source": [
        "nuevos_pesos=[]\n",
        "for element in pesos:\n",
        "  nuevos_pesos.append( \n",
        "      np.random.normal(\n",
        "          loc=0., \n",
        "          scale= (2.0/(np.sum(element.shape)))**0.5\n",
        "          ,size= element.shape )\n",
        "       ) #sqrt(2 / (fan_in + fan_out))\n",
        "modelo_caro.set_weights( nuevos_pesos )\n",
        "modelo_caro.evaluate(img_test, etiquetas_test)\n",
        "modelo_caro.compile(loss=\"sparse_categorical_crossentropy\", metrics=\"accuracy\")\n",
        "logs = modelo_caro.fit(\n",
        "    img_entrenamiento,\n",
        "    etiquetas_entrenamiento,\n",
        "    validation_split=0.1,\n",
        "    epochs=30\n",
        ")"
      ],
      "metadata": {
        "colab": {
          "base_uri": "https://localhost:8080/",
          "height": 981
        },
        "id": "_WLz9f16e9VD",
        "outputId": "1b86fca1-b678-4f6d-cbd0-8f473542a4ec"
      },
      "execution_count": 19,
      "outputs": [
        {
          "output_type": "stream",
          "name": "stdout",
          "text": [
            "313/313 [==============================] - 1s 2ms/step - loss: 2.5393 - accuracy: 0.1626\n",
            "Epoch 1/30\n",
            "1688/1688 [==============================] - 5s 3ms/step - loss: 0.9942 - accuracy: 0.6377 - val_loss: 0.5215 - val_accuracy: 0.8192\n",
            "Epoch 2/30\n",
            "1688/1688 [==============================] - 4s 3ms/step - loss: 0.7201 - accuracy: 0.7489 - val_loss: 0.4825 - val_accuracy: 0.8280\n",
            "Epoch 3/30\n",
            "1688/1688 [==============================] - 5s 3ms/step - loss: 0.6948 - accuracy: 0.7658 - val_loss: 0.4789 - val_accuracy: 0.8338\n",
            "Epoch 4/30\n",
            "1688/1688 [==============================] - 4s 3ms/step - loss: 0.6899 - accuracy: 0.7692 - val_loss: 0.5063 - val_accuracy: 0.8333\n",
            "Epoch 5/30\n",
            "1688/1688 [==============================] - 4s 3ms/step - loss: 0.6931 - accuracy: 0.7730 - val_loss: 0.4871 - val_accuracy: 0.8407\n",
            "Epoch 6/30\n",
            "1688/1688 [==============================] - 4s 3ms/step - loss: 0.7066 - accuracy: 0.7730 - val_loss: 0.4842 - val_accuracy: 0.8428\n",
            "Epoch 7/30\n",
            "1688/1688 [==============================] - 4s 3ms/step - loss: 0.7136 - accuracy: 0.7723 - val_loss: 0.5222 - val_accuracy: 0.8385\n",
            "Epoch 8/30\n",
            "1688/1688 [==============================] - 4s 3ms/step - loss: 0.7240 - accuracy: 0.7742 - val_loss: 0.5104 - val_accuracy: 0.8327\n",
            "Epoch 9/30\n",
            "1688/1688 [==============================] - 4s 2ms/step - loss: 0.7181 - accuracy: 0.7720 - val_loss: 0.5665 - val_accuracy: 0.8400\n",
            "Epoch 10/30\n",
            "1688/1688 [==============================] - 4s 2ms/step - loss: 0.7241 - accuracy: 0.7746 - val_loss: 0.5447 - val_accuracy: 0.8350\n",
            "Epoch 11/30\n",
            "1688/1688 [==============================] - 4s 2ms/step - loss: 0.7485 - accuracy: 0.7750 - val_loss: 0.5608 - val_accuracy: 0.8327\n",
            "Epoch 12/30\n",
            "1688/1688 [==============================] - 4s 3ms/step - loss: 0.7538 - accuracy: 0.7713 - val_loss: 0.5677 - val_accuracy: 0.8327\n",
            "Epoch 13/30\n",
            "1688/1688 [==============================] - 5s 3ms/step - loss: 0.7506 - accuracy: 0.7737 - val_loss: 0.5398 - val_accuracy: 0.8397\n",
            "Epoch 14/30\n",
            "1688/1688 [==============================] - 4s 2ms/step - loss: 0.7686 - accuracy: 0.7696 - val_loss: 0.5900 - val_accuracy: 0.8237\n",
            "Epoch 15/30\n",
            "1688/1688 [==============================] - 4s 2ms/step - loss: 0.7693 - accuracy: 0.7693 - val_loss: 0.5435 - val_accuracy: 0.8382\n",
            "Epoch 16/30\n",
            "1422/1688 [========================>.....] - ETA: 0s - loss: 0.7738 - accuracy: 0.7703"
          ]
        },
        {
          "output_type": "error",
          "ename": "KeyboardInterrupt",
          "evalue": "ignored",
          "traceback": [
            "\u001b[0;31m---------------------------------------------------------------------------\u001b[0m",
            "\u001b[0;31mKeyboardInterrupt\u001b[0m                         Traceback (most recent call last)",
            "\u001b[0;32m<ipython-input-19-011a818b0d61>\u001b[0m in \u001b[0;36m<module>\u001b[0;34m()\u001b[0m\n\u001b[1;32m     14\u001b[0m     \u001b[0metiquetas_entrenamiento\u001b[0m\u001b[0;34m,\u001b[0m\u001b[0;34m\u001b[0m\u001b[0;34m\u001b[0m\u001b[0m\n\u001b[1;32m     15\u001b[0m     \u001b[0mvalidation_split\u001b[0m\u001b[0;34m=\u001b[0m\u001b[0;36m0.1\u001b[0m\u001b[0;34m,\u001b[0m\u001b[0;34m\u001b[0m\u001b[0;34m\u001b[0m\u001b[0m\n\u001b[0;32m---> 16\u001b[0;31m     \u001b[0mepochs\u001b[0m\u001b[0;34m=\u001b[0m\u001b[0;36m30\u001b[0m\u001b[0;34m\u001b[0m\u001b[0;34m\u001b[0m\u001b[0m\n\u001b[0m\u001b[1;32m     17\u001b[0m )\n",
            "\u001b[0;32m/usr/local/lib/python3.7/dist-packages/keras/utils/traceback_utils.py\u001b[0m in \u001b[0;36merror_handler\u001b[0;34m(*args, **kwargs)\u001b[0m\n\u001b[1;32m     62\u001b[0m     \u001b[0mfiltered_tb\u001b[0m \u001b[0;34m=\u001b[0m \u001b[0;32mNone\u001b[0m\u001b[0;34m\u001b[0m\u001b[0;34m\u001b[0m\u001b[0m\n\u001b[1;32m     63\u001b[0m     \u001b[0;32mtry\u001b[0m\u001b[0;34m:\u001b[0m\u001b[0;34m\u001b[0m\u001b[0;34m\u001b[0m\u001b[0m\n\u001b[0;32m---> 64\u001b[0;31m       \u001b[0;32mreturn\u001b[0m \u001b[0mfn\u001b[0m\u001b[0;34m(\u001b[0m\u001b[0;34m*\u001b[0m\u001b[0margs\u001b[0m\u001b[0;34m,\u001b[0m \u001b[0;34m**\u001b[0m\u001b[0mkwargs\u001b[0m\u001b[0;34m)\u001b[0m\u001b[0;34m\u001b[0m\u001b[0;34m\u001b[0m\u001b[0m\n\u001b[0m\u001b[1;32m     65\u001b[0m     \u001b[0;32mexcept\u001b[0m \u001b[0mException\u001b[0m \u001b[0;32mas\u001b[0m \u001b[0me\u001b[0m\u001b[0;34m:\u001b[0m  \u001b[0;31m# pylint: disable=broad-except\u001b[0m\u001b[0;34m\u001b[0m\u001b[0;34m\u001b[0m\u001b[0m\n\u001b[1;32m     66\u001b[0m       \u001b[0mfiltered_tb\u001b[0m \u001b[0;34m=\u001b[0m \u001b[0m_process_traceback_frames\u001b[0m\u001b[0;34m(\u001b[0m\u001b[0me\u001b[0m\u001b[0;34m.\u001b[0m\u001b[0m__traceback__\u001b[0m\u001b[0;34m)\u001b[0m\u001b[0;34m\u001b[0m\u001b[0;34m\u001b[0m\u001b[0m\n",
            "\u001b[0;32m/usr/local/lib/python3.7/dist-packages/keras/engine/training.py\u001b[0m in \u001b[0;36mfit\u001b[0;34m(self, x, y, batch_size, epochs, verbose, callbacks, validation_split, validation_data, shuffle, class_weight, sample_weight, initial_epoch, steps_per_epoch, validation_steps, validation_batch_size, validation_freq, max_queue_size, workers, use_multiprocessing)\u001b[0m\n\u001b[1;32m   1387\u001b[0m               \u001b[0mlogs\u001b[0m \u001b[0;34m=\u001b[0m \u001b[0mtmp_logs\u001b[0m  \u001b[0;31m# No error, now safe to assign to logs.\u001b[0m\u001b[0;34m\u001b[0m\u001b[0;34m\u001b[0m\u001b[0m\n\u001b[1;32m   1388\u001b[0m               \u001b[0mend_step\u001b[0m \u001b[0;34m=\u001b[0m \u001b[0mstep\u001b[0m \u001b[0;34m+\u001b[0m \u001b[0mdata_handler\u001b[0m\u001b[0;34m.\u001b[0m\u001b[0mstep_increment\u001b[0m\u001b[0;34m\u001b[0m\u001b[0;34m\u001b[0m\u001b[0m\n\u001b[0;32m-> 1389\u001b[0;31m               \u001b[0mcallbacks\u001b[0m\u001b[0;34m.\u001b[0m\u001b[0mon_train_batch_end\u001b[0m\u001b[0;34m(\u001b[0m\u001b[0mend_step\u001b[0m\u001b[0;34m,\u001b[0m \u001b[0mlogs\u001b[0m\u001b[0;34m)\u001b[0m\u001b[0;34m\u001b[0m\u001b[0;34m\u001b[0m\u001b[0m\n\u001b[0m\u001b[1;32m   1390\u001b[0m               \u001b[0;32mif\u001b[0m \u001b[0mself\u001b[0m\u001b[0;34m.\u001b[0m\u001b[0mstop_training\u001b[0m\u001b[0;34m:\u001b[0m\u001b[0;34m\u001b[0m\u001b[0;34m\u001b[0m\u001b[0m\n\u001b[1;32m   1391\u001b[0m                 \u001b[0;32mbreak\u001b[0m\u001b[0;34m\u001b[0m\u001b[0;34m\u001b[0m\u001b[0m\n",
            "\u001b[0;32m/usr/local/lib/python3.7/dist-packages/keras/callbacks.py\u001b[0m in \u001b[0;36mon_train_batch_end\u001b[0;34m(self, batch, logs)\u001b[0m\n\u001b[1;32m    436\u001b[0m     \"\"\"\n\u001b[1;32m    437\u001b[0m     \u001b[0;32mif\u001b[0m \u001b[0mself\u001b[0m\u001b[0;34m.\u001b[0m\u001b[0m_should_call_train_batch_hooks\u001b[0m\u001b[0;34m:\u001b[0m\u001b[0;34m\u001b[0m\u001b[0;34m\u001b[0m\u001b[0m\n\u001b[0;32m--> 438\u001b[0;31m       \u001b[0mself\u001b[0m\u001b[0;34m.\u001b[0m\u001b[0m_call_batch_hook\u001b[0m\u001b[0;34m(\u001b[0m\u001b[0mModeKeys\u001b[0m\u001b[0;34m.\u001b[0m\u001b[0mTRAIN\u001b[0m\u001b[0;34m,\u001b[0m \u001b[0;34m'end'\u001b[0m\u001b[0;34m,\u001b[0m \u001b[0mbatch\u001b[0m\u001b[0;34m,\u001b[0m \u001b[0mlogs\u001b[0m\u001b[0;34m=\u001b[0m\u001b[0mlogs\u001b[0m\u001b[0;34m)\u001b[0m\u001b[0;34m\u001b[0m\u001b[0;34m\u001b[0m\u001b[0m\n\u001b[0m\u001b[1;32m    439\u001b[0m \u001b[0;34m\u001b[0m\u001b[0m\n\u001b[1;32m    440\u001b[0m   \u001b[0;32mdef\u001b[0m \u001b[0mon_test_batch_begin\u001b[0m\u001b[0;34m(\u001b[0m\u001b[0mself\u001b[0m\u001b[0;34m,\u001b[0m \u001b[0mbatch\u001b[0m\u001b[0;34m,\u001b[0m \u001b[0mlogs\u001b[0m\u001b[0;34m=\u001b[0m\u001b[0;32mNone\u001b[0m\u001b[0;34m)\u001b[0m\u001b[0;34m:\u001b[0m\u001b[0;34m\u001b[0m\u001b[0;34m\u001b[0m\u001b[0m\n",
            "\u001b[0;32m/usr/local/lib/python3.7/dist-packages/keras/callbacks.py\u001b[0m in \u001b[0;36m_call_batch_hook\u001b[0;34m(self, mode, hook, batch, logs)\u001b[0m\n\u001b[1;32m    295\u001b[0m       \u001b[0mself\u001b[0m\u001b[0;34m.\u001b[0m\u001b[0m_call_batch_begin_hook\u001b[0m\u001b[0;34m(\u001b[0m\u001b[0mmode\u001b[0m\u001b[0;34m,\u001b[0m \u001b[0mbatch\u001b[0m\u001b[0;34m,\u001b[0m \u001b[0mlogs\u001b[0m\u001b[0;34m)\u001b[0m\u001b[0;34m\u001b[0m\u001b[0;34m\u001b[0m\u001b[0m\n\u001b[1;32m    296\u001b[0m     \u001b[0;32melif\u001b[0m \u001b[0mhook\u001b[0m \u001b[0;34m==\u001b[0m \u001b[0;34m'end'\u001b[0m\u001b[0;34m:\u001b[0m\u001b[0;34m\u001b[0m\u001b[0;34m\u001b[0m\u001b[0m\n\u001b[0;32m--> 297\u001b[0;31m       \u001b[0mself\u001b[0m\u001b[0;34m.\u001b[0m\u001b[0m_call_batch_end_hook\u001b[0m\u001b[0;34m(\u001b[0m\u001b[0mmode\u001b[0m\u001b[0;34m,\u001b[0m \u001b[0mbatch\u001b[0m\u001b[0;34m,\u001b[0m \u001b[0mlogs\u001b[0m\u001b[0;34m)\u001b[0m\u001b[0;34m\u001b[0m\u001b[0;34m\u001b[0m\u001b[0m\n\u001b[0m\u001b[1;32m    298\u001b[0m     \u001b[0;32melse\u001b[0m\u001b[0;34m:\u001b[0m\u001b[0;34m\u001b[0m\u001b[0;34m\u001b[0m\u001b[0m\n\u001b[1;32m    299\u001b[0m       raise ValueError(\n",
            "\u001b[0;32m/usr/local/lib/python3.7/dist-packages/keras/callbacks.py\u001b[0m in \u001b[0;36m_call_batch_end_hook\u001b[0;34m(self, mode, batch, logs)\u001b[0m\n\u001b[1;32m    316\u001b[0m       \u001b[0mself\u001b[0m\u001b[0;34m.\u001b[0m\u001b[0m_batch_times\u001b[0m\u001b[0;34m.\u001b[0m\u001b[0mappend\u001b[0m\u001b[0;34m(\u001b[0m\u001b[0mbatch_time\u001b[0m\u001b[0;34m)\u001b[0m\u001b[0;34m\u001b[0m\u001b[0;34m\u001b[0m\u001b[0m\n\u001b[1;32m    317\u001b[0m \u001b[0;34m\u001b[0m\u001b[0m\n\u001b[0;32m--> 318\u001b[0;31m     \u001b[0mself\u001b[0m\u001b[0;34m.\u001b[0m\u001b[0m_call_batch_hook_helper\u001b[0m\u001b[0;34m(\u001b[0m\u001b[0mhook_name\u001b[0m\u001b[0;34m,\u001b[0m \u001b[0mbatch\u001b[0m\u001b[0;34m,\u001b[0m \u001b[0mlogs\u001b[0m\u001b[0;34m)\u001b[0m\u001b[0;34m\u001b[0m\u001b[0;34m\u001b[0m\u001b[0m\n\u001b[0m\u001b[1;32m    319\u001b[0m \u001b[0;34m\u001b[0m\u001b[0m\n\u001b[1;32m    320\u001b[0m     \u001b[0;32mif\u001b[0m \u001b[0mlen\u001b[0m\u001b[0;34m(\u001b[0m\u001b[0mself\u001b[0m\u001b[0;34m.\u001b[0m\u001b[0m_batch_times\u001b[0m\u001b[0;34m)\u001b[0m \u001b[0;34m>=\u001b[0m \u001b[0mself\u001b[0m\u001b[0;34m.\u001b[0m\u001b[0m_num_batches_for_timing_check\u001b[0m\u001b[0;34m:\u001b[0m\u001b[0;34m\u001b[0m\u001b[0;34m\u001b[0m\u001b[0m\n",
            "\u001b[0;32m/usr/local/lib/python3.7/dist-packages/keras/callbacks.py\u001b[0m in \u001b[0;36m_call_batch_hook_helper\u001b[0;34m(self, hook_name, batch, logs)\u001b[0m\n\u001b[1;32m    354\u001b[0m     \u001b[0;32mfor\u001b[0m \u001b[0mcallback\u001b[0m \u001b[0;32min\u001b[0m \u001b[0mself\u001b[0m\u001b[0;34m.\u001b[0m\u001b[0mcallbacks\u001b[0m\u001b[0;34m:\u001b[0m\u001b[0;34m\u001b[0m\u001b[0;34m\u001b[0m\u001b[0m\n\u001b[1;32m    355\u001b[0m       \u001b[0mhook\u001b[0m \u001b[0;34m=\u001b[0m \u001b[0mgetattr\u001b[0m\u001b[0;34m(\u001b[0m\u001b[0mcallback\u001b[0m\u001b[0;34m,\u001b[0m \u001b[0mhook_name\u001b[0m\u001b[0;34m)\u001b[0m\u001b[0;34m\u001b[0m\u001b[0;34m\u001b[0m\u001b[0m\n\u001b[0;32m--> 356\u001b[0;31m       \u001b[0mhook\u001b[0m\u001b[0;34m(\u001b[0m\u001b[0mbatch\u001b[0m\u001b[0;34m,\u001b[0m \u001b[0mlogs\u001b[0m\u001b[0;34m)\u001b[0m\u001b[0;34m\u001b[0m\u001b[0;34m\u001b[0m\u001b[0m\n\u001b[0m\u001b[1;32m    357\u001b[0m \u001b[0;34m\u001b[0m\u001b[0m\n\u001b[1;32m    358\u001b[0m     \u001b[0;32mif\u001b[0m \u001b[0mself\u001b[0m\u001b[0;34m.\u001b[0m\u001b[0m_check_timing\u001b[0m\u001b[0;34m:\u001b[0m\u001b[0;34m\u001b[0m\u001b[0;34m\u001b[0m\u001b[0m\n",
            "\u001b[0;32m/usr/local/lib/python3.7/dist-packages/keras/callbacks.py\u001b[0m in \u001b[0;36mon_train_batch_end\u001b[0;34m(self, batch, logs)\u001b[0m\n\u001b[1;32m   1032\u001b[0m \u001b[0;34m\u001b[0m\u001b[0m\n\u001b[1;32m   1033\u001b[0m   \u001b[0;32mdef\u001b[0m \u001b[0mon_train_batch_end\u001b[0m\u001b[0;34m(\u001b[0m\u001b[0mself\u001b[0m\u001b[0;34m,\u001b[0m \u001b[0mbatch\u001b[0m\u001b[0;34m,\u001b[0m \u001b[0mlogs\u001b[0m\u001b[0;34m=\u001b[0m\u001b[0;32mNone\u001b[0m\u001b[0;34m)\u001b[0m\u001b[0;34m:\u001b[0m\u001b[0;34m\u001b[0m\u001b[0;34m\u001b[0m\u001b[0m\n\u001b[0;32m-> 1034\u001b[0;31m     \u001b[0mself\u001b[0m\u001b[0;34m.\u001b[0m\u001b[0m_batch_update_progbar\u001b[0m\u001b[0;34m(\u001b[0m\u001b[0mbatch\u001b[0m\u001b[0;34m,\u001b[0m \u001b[0mlogs\u001b[0m\u001b[0;34m)\u001b[0m\u001b[0;34m\u001b[0m\u001b[0;34m\u001b[0m\u001b[0m\n\u001b[0m\u001b[1;32m   1035\u001b[0m \u001b[0;34m\u001b[0m\u001b[0m\n\u001b[1;32m   1036\u001b[0m   \u001b[0;32mdef\u001b[0m \u001b[0mon_test_batch_end\u001b[0m\u001b[0;34m(\u001b[0m\u001b[0mself\u001b[0m\u001b[0;34m,\u001b[0m \u001b[0mbatch\u001b[0m\u001b[0;34m,\u001b[0m \u001b[0mlogs\u001b[0m\u001b[0;34m=\u001b[0m\u001b[0;32mNone\u001b[0m\u001b[0;34m)\u001b[0m\u001b[0;34m:\u001b[0m\u001b[0;34m\u001b[0m\u001b[0;34m\u001b[0m\u001b[0m\n",
            "\u001b[0;32m/usr/local/lib/python3.7/dist-packages/keras/callbacks.py\u001b[0m in \u001b[0;36m_batch_update_progbar\u001b[0;34m(self, batch, logs)\u001b[0m\n\u001b[1;32m   1090\u001b[0m     \u001b[0;34m\"\"\"Updates the progbar.\"\"\"\u001b[0m\u001b[0;34m\u001b[0m\u001b[0;34m\u001b[0m\u001b[0m\n\u001b[1;32m   1091\u001b[0m     \u001b[0mlogs\u001b[0m \u001b[0;34m=\u001b[0m \u001b[0mlogs\u001b[0m \u001b[0;32mor\u001b[0m \u001b[0;34m{\u001b[0m\u001b[0;34m}\u001b[0m\u001b[0;34m\u001b[0m\u001b[0;34m\u001b[0m\u001b[0m\n\u001b[0;32m-> 1092\u001b[0;31m     \u001b[0mself\u001b[0m\u001b[0;34m.\u001b[0m\u001b[0m_maybe_init_progbar\u001b[0m\u001b[0;34m(\u001b[0m\u001b[0;34m)\u001b[0m\u001b[0;34m\u001b[0m\u001b[0;34m\u001b[0m\u001b[0m\n\u001b[0m\u001b[1;32m   1093\u001b[0m     \u001b[0;32mif\u001b[0m \u001b[0mself\u001b[0m\u001b[0;34m.\u001b[0m\u001b[0muse_steps\u001b[0m\u001b[0;34m:\u001b[0m\u001b[0;34m\u001b[0m\u001b[0;34m\u001b[0m\u001b[0m\n\u001b[1;32m   1094\u001b[0m       \u001b[0mself\u001b[0m\u001b[0;34m.\u001b[0m\u001b[0mseen\u001b[0m \u001b[0;34m=\u001b[0m \u001b[0mbatch\u001b[0m \u001b[0;34m+\u001b[0m \u001b[0;36m1\u001b[0m  \u001b[0;31m# One-indexed.\u001b[0m\u001b[0;34m\u001b[0m\u001b[0;34m\u001b[0m\u001b[0m\n",
            "\u001b[0;32m/usr/local/lib/python3.7/dist-packages/keras/callbacks.py\u001b[0m in \u001b[0;36m_maybe_init_progbar\u001b[0;34m(self)\u001b[0m\n\u001b[1;32m   1067\u001b[0m       \u001b[0;31m# step.\u001b[0m\u001b[0;34m\u001b[0m\u001b[0;34m\u001b[0m\u001b[0;34m\u001b[0m\u001b[0m\n\u001b[1;32m   1068\u001b[0m       self.stateful_metrics = self.stateful_metrics.union(\n\u001b[0;32m-> 1069\u001b[0;31m           set(m.name for m in self.model.metrics))\n\u001b[0m\u001b[1;32m   1070\u001b[0m \u001b[0;34m\u001b[0m\u001b[0m\n\u001b[1;32m   1071\u001b[0m     \u001b[0;32mif\u001b[0m \u001b[0mself\u001b[0m\u001b[0;34m.\u001b[0m\u001b[0mprogbar\u001b[0m \u001b[0;32mis\u001b[0m \u001b[0;32mNone\u001b[0m\u001b[0;34m:\u001b[0m\u001b[0;34m\u001b[0m\u001b[0;34m\u001b[0m\u001b[0m\n",
            "\u001b[0;32m/usr/local/lib/python3.7/dist-packages/keras/engine/training.py\u001b[0m in \u001b[0;36mmetrics\u001b[0;34m(self)\u001b[0m\n\u001b[1;32m    705\u001b[0m     \"\"\"\n\u001b[1;32m    706\u001b[0m     \u001b[0mmetrics\u001b[0m \u001b[0;34m=\u001b[0m \u001b[0;34m[\u001b[0m\u001b[0;34m]\u001b[0m\u001b[0;34m\u001b[0m\u001b[0;34m\u001b[0m\u001b[0m\n\u001b[0;32m--> 707\u001b[0;31m     \u001b[0;32mif\u001b[0m \u001b[0mself\u001b[0m\u001b[0;34m.\u001b[0m\u001b[0m_is_compiled\u001b[0m\u001b[0;34m:\u001b[0m\u001b[0;34m\u001b[0m\u001b[0;34m\u001b[0m\u001b[0m\n\u001b[0m\u001b[1;32m    708\u001b[0m       \u001b[0;31m# TODO(omalleyt): Track `LossesContainer` and `MetricsContainer` objects\u001b[0m\u001b[0;34m\u001b[0m\u001b[0;34m\u001b[0m\u001b[0;34m\u001b[0m\u001b[0m\n\u001b[1;32m    709\u001b[0m       \u001b[0;31m# so that attr names are not load-bearing.\u001b[0m\u001b[0;34m\u001b[0m\u001b[0;34m\u001b[0m\u001b[0;34m\u001b[0m\u001b[0m\n",
            "\u001b[0;31mKeyboardInterrupt\u001b[0m: "
          ]
        }
      ]
    },
    {
      "cell_type": "code",
      "source": [
        ""
      ],
      "metadata": {
        "id": "9QEIkWHmf9N5"
      },
      "execution_count": null,
      "outputs": []
    }
  ]
}