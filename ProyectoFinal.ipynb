{
  "cells": [
    {
      "cell_type": "markdown",
      "metadata": {
        "id": "view-in-github",
        "colab_type": "text"
      },
      "source": [
        "<a href=\"https://colab.research.google.com/github/estebanvz/alura-deep-learning-2/blob/master/ProyectoFinal.ipynb\" target=\"_parent\"><img src=\"https://colab.research.google.com/assets/colab-badge.svg\" alt=\"Open In Colab\"/></a>"
      ]
    },
    {
      "cell_type": "markdown",
      "metadata": {
        "id": "bCON8tZyYWjk"
      },
      "source": [
        "# Librerias"
      ]
    },
    {
      "cell_type": "code",
      "execution_count": 57,
      "metadata": {
        "id": "7bRlGtdDYT7D"
      },
      "outputs": [],
      "source": [
        "import tensorflow as tf\n",
        "from tensorflow import keras\n",
        "import numpy as np\n",
        "import matplotlib.pyplot as plt\n",
        "np.set_printoptions(precision=4, suppress=True)"
      ]
    },
    {
      "cell_type": "markdown",
      "metadata": {
        "id": "TTACnbxDYdvz"
      },
      "source": [
        "# Dataset y Normalización"
      ]
    },
    {
      "cell_type": "code",
      "execution_count": 58,
      "metadata": {
        "colab": {
          "base_uri": "https://localhost:8080/"
        },
        "id": "JRaRF3J0Yclw",
        "outputId": "f5636089-3846-4e97-c1f3-c0de12124503"
      },
      "outputs": [
        {
          "output_type": "execute_result",
          "data": {
            "text/plain": [
              "((60000, 28, 28), (10000, 28, 28))"
            ]
          },
          "metadata": {},
          "execution_count": 58
        }
      ],
      "source": [
        "dataset = keras.datasets.fashion_mnist\n",
        "((img_entrenamiento, etiquetas_entrenamiento),(img_test, etiquetas_test)) = dataset.load_data()\n",
        "img_entrenamiento = img_entrenamiento/255.0\n",
        "img_test = img_test/255.0\n",
        "img_entrenamiento.shape, img_test.shape"
      ]
    },
    {
      "cell_type": "markdown",
      "metadata": {
        "id": "HoRvWi9gZDh7"
      },
      "source": [
        "# Cargar Modelo"
      ]
    },
    {
      "cell_type": "code",
      "execution_count": 59,
      "metadata": {
        "id": "JD-16D1sYs8z"
      },
      "outputs": [],
      "source": [
        "modelo_caro = keras.models.load_model(\"/content/drive/MyDrive/alura/deep_learning_2/modelo_inicial_caro.h5\")"
      ]
    },
    {
      "cell_type": "code",
      "execution_count": 60,
      "metadata": {
        "colab": {
          "base_uri": "https://localhost:8080/"
        },
        "id": "bZiWAbMDZxVf",
        "outputId": "f76aa7e2-8498-4321-98d6-48c8c82a0be1"
      },
      "outputs": [
        {
          "output_type": "stream",
          "name": "stdout",
          "text": [
            "Model: \"sequential_10\"\n",
            "_________________________________________________________________\n",
            " Layer (type)                Output Shape              Param #   \n",
            "=================================================================\n",
            " flatten_10 (Flatten)        (None, 784)               0         \n",
            "                                                                 \n",
            " dense_20 (Dense)            (None, 50)                39250     \n",
            "                                                                 \n",
            " dropout (Dropout)           (None, 50)                0         \n",
            "                                                                 \n",
            " dense_21 (Dense)            (None, 50)                2550      \n",
            "                                                                 \n",
            " dropout_1 (Dropout)         (None, 50)                0         \n",
            "                                                                 \n",
            " dense_22 (Dense)            (None, 10)                510       \n",
            "                                                                 \n",
            "=================================================================\n",
            "Total params: 42,310\n",
            "Trainable params: 42,310\n",
            "Non-trainable params: 0\n",
            "_________________________________________________________________\n"
          ]
        }
      ],
      "source": [
        "modelo_caro.summary()"
      ]
    },
    {
      "cell_type": "markdown",
      "metadata": {
        "id": "YtsO7jlFEJgp"
      },
      "source": [
        "# Modelo Tiny"
      ]
    },
    {
      "cell_type": "code",
      "execution_count": null,
      "metadata": {
        "colab": {
          "base_uri": "https://localhost:8080/"
        },
        "id": "jxjcBnijB8TC",
        "outputId": "c66decca-495a-4874-b03b-74bff3da5dc3"
      },
      "outputs": [
        {
          "data": {
            "text/plain": [
              "array([[0.26, 0.07]], dtype=float32)"
            ]
          },
          "execution_count": 20,
          "metadata": {},
          "output_type": "execute_result"
        }
      ],
      "source": [
        "tiny = keras.Sequential()\n",
        "tiny.add(keras.layers.Input(3,))\n",
        "tiny.add(keras.layers.Dense(3,kernel_initializer=\"GlorotNormal\"))\n",
        "tiny.add(keras.layers.Dense(2,))\n",
        "tiny.predict(np.array([[0.5,0.3,0.2]]))"
      ]
    },
    {
      "cell_type": "code",
      "execution_count": null,
      "metadata": {
        "colab": {
          "base_uri": "https://localhost:8080/"
        },
        "id": "46seGRyAHdbC",
        "outputId": "ddbb3a63-d7cc-4d2e-8668-774a906badd6"
      },
      "outputs": [
        {
          "data": {
            "text/plain": [
              "(3, 3)"
            ]
          },
          "execution_count": 100,
          "metadata": {},
          "output_type": "execute_result"
        }
      ],
      "source": [
        "tiny.layers[0].get_weights()[0].shape"
      ]
    },
    {
      "cell_type": "code",
      "execution_count": null,
      "metadata": {
        "colab": {
          "base_uri": "https://localhost:8080/"
        },
        "id": "mbUTDyb4HlcX",
        "outputId": "31ff62ee-57e7-446f-8115-c74ed812e2b3"
      },
      "outputs": [
        {
          "data": {
            "text/plain": [
              "(3, 2)"
            ]
          },
          "execution_count": 101,
          "metadata": {},
          "output_type": "execute_result"
        }
      ],
      "source": [
        "tiny.layers[1].get_weights()[0].shape"
      ]
    },
    {
      "cell_type": "code",
      "execution_count": null,
      "metadata": {
        "colab": {
          "base_uri": "https://localhost:8080/"
        },
        "id": "rsM3piNAIkNB",
        "outputId": "9bcded64-90c7-4ef6-b06c-df44c0c4b49f"
      },
      "outputs": [
        {
          "data": {
            "text/plain": [
              "array([-0.05,  0.1 ])"
            ]
          },
          "execution_count": 102,
          "metadata": {},
          "output_type": "execute_result"
        }
      ],
      "source": [
        "([0.5,0.3,0.2] @ tiny.layers[0].get_weights()[0]) @ tiny.layers[1].get_weights()[0]"
      ]
    },
    {
      "cell_type": "code",
      "execution_count": null,
      "metadata": {
        "colab": {
          "base_uri": "https://localhost:8080/"
        },
        "id": "Lmby9adRMAnA",
        "outputId": "787f2a5c-ec4e-461a-9d27-740ba87b507b"
      },
      "outputs": [
        {
          "data": {
            "text/plain": [
              "[array([[ 0.63, -0.59],\n",
              "        [-0.44,  0.32],\n",
              "        [-1.02,  1.08]], dtype=float32), array([0., 0.], dtype=float32)]"
            ]
          },
          "execution_count": 103,
          "metadata": {},
          "output_type": "execute_result"
        }
      ],
      "source": [
        "tiny.layers[1].get_weights()"
      ]
    },
    {
      "cell_type": "markdown",
      "metadata": {
        "id": "Kw0zB7xkBoW5"
      },
      "source": [
        "## Bias"
      ]
    },
    {
      "cell_type": "code",
      "execution_count": null,
      "metadata": {
        "colab": {
          "base_uri": "https://localhost:8080/"
        },
        "id": "TiD3Xo4rBskQ",
        "outputId": "a181036f-46b3-4933-dccb-5437d645b6c5"
      },
      "outputs": [
        {
          "data": {
            "text/plain": [
              "array([0., 0., 0.], dtype=float32)"
            ]
          },
          "execution_count": 12,
          "metadata": {},
          "output_type": "execute_result"
        }
      ],
      "source": [
        "tiny.layers[0].get_weights()[1]"
      ]
    },
    {
      "cell_type": "code",
      "execution_count": null,
      "metadata": {
        "colab": {
          "base_uri": "https://localhost:8080/"
        },
        "id": "NaZxCmVI5ATI",
        "outputId": "88670b1d-9b44-46e8-bf77-03bc770f5746"
      },
      "outputs": [
        {
          "data": {
            "text/plain": [
              "array([0., 0.], dtype=float32)"
            ]
          },
          "execution_count": 13,
          "metadata": {},
          "output_type": "execute_result"
        }
      ],
      "source": [
        "tiny.layers[1].get_weights()[1]"
      ]
    },
    {
      "cell_type": "code",
      "execution_count": null,
      "metadata": {
        "colab": {
          "base_uri": "https://localhost:8080/"
        },
        "id": "ZJ_P9mpHB9Rh",
        "outputId": "d061d7ef-b074-44a6-d5f7-6db0a04df813"
      },
      "outputs": [
        {
          "data": {
            "text/plain": [
              "{'activation': 'linear',\n",
              " 'activity_regularizer': None,\n",
              " 'bias_constraint': None,\n",
              " 'bias_initializer': {'class_name': 'Zeros', 'config': {}},\n",
              " 'bias_regularizer': None,\n",
              " 'dtype': 'float32',\n",
              " 'kernel_constraint': None,\n",
              " 'kernel_initializer': {'class_name': 'GlorotNormal',\n",
              "  'config': {'seed': None}},\n",
              " 'kernel_regularizer': None,\n",
              " 'name': 'dense_3',\n",
              " 'trainable': True,\n",
              " 'units': 3,\n",
              " 'use_bias': True}"
            ]
          },
          "execution_count": 21,
          "metadata": {},
          "output_type": "execute_result"
        }
      ],
      "source": [
        "tiny.layers[0].get_config()"
      ]
    },
    {
      "cell_type": "code",
      "execution_count": null,
      "metadata": {
        "colab": {
          "base_uri": "https://localhost:8080/"
        },
        "id": "caHQFUOty4sL",
        "outputId": "ab3c2c5c-b85c-40d9-d8fc-8d95a9cb018c"
      },
      "outputs": [
        {
          "data": {
            "text/plain": [
              "[array([[-0.73,  0.11,  0.58],\n",
              "        [-0.44, -0.57, -0.67],\n",
              "        [-0.73,  0.8 , -0.36]], dtype=float32),\n",
              " array([0., 0., 0.], dtype=float32)]"
            ]
          },
          "execution_count": 87,
          "metadata": {},
          "output_type": "execute_result"
        }
      ],
      "source": [
        "tiny.layers[0].get_weights()"
      ]
    },
    {
      "cell_type": "markdown",
      "metadata": {
        "id": "yf7mh6XJSTun"
      },
      "source": [
        "# Modificando pesos"
      ]
    },
    {
      "cell_type": "code",
      "execution_count": null,
      "metadata": {
        "colab": {
          "base_uri": "https://localhost:8080/"
        },
        "id": "xdtTJijISVSy",
        "outputId": "ecccc607-df5a-4f0b-ed7c-9224f32df7de"
      },
      "outputs": [
        {
          "data": {
            "text/plain": [
              "6"
            ]
          },
          "execution_count": 5,
          "metadata": {},
          "output_type": "execute_result"
        }
      ],
      "source": [
        "pesos = modelo_caro.get_weights()\n",
        "len(pesos)"
      ]
    },
    {
      "cell_type": "code",
      "execution_count": null,
      "metadata": {
        "colab": {
          "base_uri": "https://localhost:8080/"
        },
        "id": "7VmsnNaSScYI",
        "outputId": "d20294fd-747f-4f25-f67a-36966f52a786"
      },
      "outputs": [
        {
          "name": "stdout",
          "output_type": "stream",
          "text": [
            "Estructura: (784, 50)\n",
            "Estructura: (50,)\n",
            "Estructura: (50, 50)\n",
            "Estructura: (50,)\n",
            "Estructura: (50, 10)\n",
            "Estructura: (10,)\n"
          ]
        }
      ],
      "source": [
        "for element in pesos:\n",
        "  print(\"Estructura: {}\".format(element.shape))"
      ]
    },
    {
      "cell_type": "code",
      "execution_count": null,
      "metadata": {
        "colab": {
          "base_uri": "https://localhost:8080/"
        },
        "id": "Q8D1WxOcS-Gk",
        "outputId": "fa3cdfe0-f6bd-4e4d-d24a-05da3c9611b6"
      },
      "outputs": [
        {
          "name": "stdout",
          "output_type": "stream",
          "text": [
            "313/313 [==============================] - 1s 2ms/step - loss: 0.4941 - accuracy: 0.8255\n"
          ]
        },
        {
          "data": {
            "text/plain": [
              "[0.49411362409591675, 0.8255000114440918]"
            ]
          },
          "execution_count": 7,
          "metadata": {},
          "output_type": "execute_result"
        }
      ],
      "source": [
        "modelo_caro.evaluate(img_test, etiquetas_test)"
      ]
    },
    {
      "cell_type": "code",
      "execution_count": null,
      "metadata": {
        "id": "xz3tAn1XTT39"
      },
      "outputs": [],
      "source": [
        "nuevos_pesos=[]\n",
        "for element in pesos:\n",
        "  nuevos_pesos.append( np.zeros( element.shape ) )"
      ]
    },
    {
      "cell_type": "code",
      "execution_count": null,
      "metadata": {
        "colab": {
          "base_uri": "https://localhost:8080/"
        },
        "id": "VtREWGxMTj49",
        "outputId": "c2b864a7-10cc-4dbb-cbbb-6f68eefc6651"
      },
      "outputs": [
        {
          "name": "stdout",
          "output_type": "stream",
          "text": [
            "313/313 [==============================] - 1s 3ms/step - loss: 2.5835 - accuracy: 0.1052\n"
          ]
        },
        {
          "data": {
            "text/plain": [
              "[2.583512544631958, 0.10520000010728836]"
            ]
          },
          "execution_count": 9,
          "metadata": {},
          "output_type": "execute_result"
        }
      ],
      "source": [
        "modelo_caro.set_weights( nuevos_pesos )\n",
        "modelo_caro.evaluate(img_test, etiquetas_test)"
      ]
    },
    {
      "cell_type": "code",
      "execution_count": null,
      "metadata": {
        "id": "QJQRVZ8DTo5m"
      },
      "outputs": [],
      "source": [
        "modelo_caro.compile(loss=\"sparse_categorical_crossentropy\", metrics=\"accuracy\")\n",
        "logs = modelo_caro.fit(\n",
        "    img_entrenamiento,\n",
        "    etiquetas_entrenamiento,\n",
        "    validation_split=0.1,\n",
        "    epochs=30\n",
        ")"
      ]
    },
    {
      "cell_type": "code",
      "execution_count": null,
      "metadata": {
        "colab": {
          "base_uri": "https://localhost:8080/",
          "height": 284
        },
        "id": "75pdc3TjVBbQ",
        "outputId": "8de0e414-0437-4eb7-ee9e-5f73d3ceff70"
      },
      "outputs": [
        {
          "data": {
            "text/plain": [
              "[<matplotlib.lines.Line2D at 0x7f887dbe2990>]"
            ]
          },
          "execution_count": 78,
          "metadata": {},
          "output_type": "execute_result"
        },
        {
          "data": {
            "image/png": "[encoded data removed]",
            "text/plain": [
              "<Figure size 432x288 with 1 Axes>"
            ]
          },
          "metadata": {},
          "output_type": "display_data"
        }
      ],
      "source": [
        "plt.plot(logs.history[\"accuracy\"])\n",
        "plt.plot(logs.history[\"val_accuracy\"])"
      ]
    },
    {
      "cell_type": "code",
      "execution_count": null,
      "metadata": {
        "colab": {
          "base_uri": "https://localhost:8080/",
          "height": 295
        },
        "id": "2UYTdsuRVfjU",
        "outputId": "2f8565c9-3fce-4da1-8878-341bf20f2e4b"
      },
      "outputs": [
        {
          "data": {
            "text/plain": [
              "[<matplotlib.lines.Line2D at 0x7f887db23410>]"
            ]
          },
          "execution_count": 79,
          "metadata": {},
          "output_type": "execute_result"
        },
        {
          "data": {
            "image/png": "[encoded data removed]",
            "text/plain": [
              "<Figure size 432x288 with 1 Axes>"
            ]
          },
          "metadata": {},
          "output_type": "display_data"
        }
      ],
      "source": [
        "plt.plot(logs.history[\"loss\"])\n",
        "plt.plot(logs.history[\"val_loss\"])"
      ]
    },
    {
      "cell_type": "code",
      "execution_count": null,
      "metadata": {
        "colab": {
          "base_uri": "https://localhost:8080/"
        },
        "id": "H7BLEGt3VkJJ",
        "outputId": "d4078544-df2d-4096-c4d5-dea7608489a4"
      },
      "outputs": [
        {
          "name": "stdout",
          "output_type": "stream",
          "text": [
            "313/313 [==============================] - 1s 4ms/step - loss: 2.3026 - accuracy: 0.1000\n",
            "Epoch 1/30\n",
            "1688/1688 [==============================] - 6s 3ms/step - loss: 159.1985 - accuracy: 0.1251 - val_loss: 2.0228 - val_accuracy: 0.2360\n",
            "Epoch 2/30\n",
            "1688/1688 [==============================] - 4s 3ms/step - loss: 1.7377 - accuracy: 0.3609 - val_loss: 1.2536 - val_accuracy: 0.5562\n",
            "Epoch 3/30\n",
            "1688/1688 [==============================] - 4s 3ms/step - loss: 1.4843 - accuracy: 0.4726 - val_loss: 1.1201 - val_accuracy: 0.5867\n",
            "Epoch 4/30\n",
            "1688/1688 [==============================] - 4s 2ms/step - loss: 1.4050 - accuracy: 0.5093 - val_loss: 1.1095 - val_accuracy: 0.5503\n",
            "Epoch 5/30\n",
            "1688/1688 [==============================] - 4s 2ms/step - loss: 1.3722 - accuracy: 0.5258 - val_loss: 1.0818 - val_accuracy: 0.5887\n",
            "Epoch 6/30\n",
            "1688/1688 [==============================] - 4s 2ms/step - loss: 1.3545 - accuracy: 0.5379 - val_loss: 1.0438 - val_accuracy: 0.6368\n",
            "Epoch 7/30\n",
            "1688/1688 [==============================] - 4s 3ms/step - loss: 1.3333 - accuracy: 0.5495 - val_loss: 1.0928 - val_accuracy: 0.6105\n",
            "Epoch 8/30\n",
            "1688/1688 [==============================] - 4s 3ms/step - loss: 1.3200 - accuracy: 0.5558 - val_loss: 1.0101 - val_accuracy: 0.6328\n",
            "Epoch 9/30\n",
            "1688/1688 [==============================] - 4s 2ms/step - loss: 1.3192 - accuracy: 0.5593 - val_loss: 0.9294 - val_accuracy: 0.6933\n",
            "Epoch 10/30\n",
            "1688/1688 [==============================] - 4s 3ms/step - loss: 1.3088 - accuracy: 0.5634 - val_loss: 1.0495 - val_accuracy: 0.6177\n",
            "Epoch 11/30\n",
            "1688/1688 [==============================] - 4s 3ms/step - loss: 1.3010 - accuracy: 0.5698 - val_loss: 0.9654 - val_accuracy: 0.6743\n",
            "Epoch 12/30\n",
            "1688/1688 [==============================] - 4s 3ms/step - loss: 1.2849 - accuracy: 0.5719 - val_loss: 1.0241 - val_accuracy: 0.6072\n",
            "Epoch 13/30\n",
            "1688/1688 [==============================] - 4s 3ms/step - loss: 1.2851 - accuracy: 0.5754 - val_loss: 0.9646 - val_accuracy: 0.6680\n",
            "Epoch 14/30\n",
            "1688/1688 [==============================] - 4s 3ms/step - loss: 1.2935 - accuracy: 0.5750 - val_loss: 0.9828 - val_accuracy: 0.6370\n",
            "Epoch 15/30\n",
            "1688/1688 [==============================] - 4s 2ms/step - loss: 1.2811 - accuracy: 0.5778 - val_loss: 1.0497 - val_accuracy: 0.6098\n",
            "Epoch 16/30\n",
            "1688/1688 [==============================] - 4s 3ms/step - loss: 1.2825 - accuracy: 0.5783 - val_loss: 1.0309 - val_accuracy: 0.6297\n",
            "Epoch 17/30\n",
            "1688/1688 [==============================] - 4s 3ms/step - loss: 1.2822 - accuracy: 0.5789 - val_loss: 1.0705 - val_accuracy: 0.6118\n",
            "Epoch 18/30\n",
            "1688/1688 [==============================] - 4s 3ms/step - loss: 1.2974 - accuracy: 0.5810 - val_loss: 0.9914 - val_accuracy: 0.6315\n",
            "Epoch 19/30\n",
            "1688/1688 [==============================] - 5s 3ms/step - loss: 1.2971 - accuracy: 0.5760 - val_loss: 1.0050 - val_accuracy: 0.6253\n",
            "Epoch 20/30\n",
            "1688/1688 [==============================] - 4s 3ms/step - loss: 1.3027 - accuracy: 0.5776 - val_loss: 1.0180 - val_accuracy: 0.6255\n",
            "Epoch 21/30\n",
            "1688/1688 [==============================] - 4s 3ms/step - loss: 1.3001 - accuracy: 0.5756 - val_loss: 1.0611 - val_accuracy: 0.6118\n",
            "Epoch 22/30\n",
            "1688/1688 [==============================] - 4s 3ms/step - loss: 1.3199 - accuracy: 0.5794 - val_loss: 1.0617 - val_accuracy: 0.6078\n",
            "Epoch 23/30\n",
            "1688/1688 [==============================] - 4s 3ms/step - loss: 1.3041 - accuracy: 0.5817 - val_loss: 0.9669 - val_accuracy: 0.6593\n",
            "Epoch 24/30\n",
            "1688/1688 [==============================] - 4s 3ms/step - loss: 1.3090 - accuracy: 0.5833 - val_loss: 1.0144 - val_accuracy: 0.6365\n",
            "Epoch 25/30\n",
            "1688/1688 [==============================] - 4s 3ms/step - loss: 1.3323 - accuracy: 0.5777 - val_loss: 1.0740 - val_accuracy: 0.6210\n",
            "Epoch 26/30\n",
            "1688/1688 [==============================] - 4s 3ms/step - loss: 1.3028 - accuracy: 0.5796 - val_loss: 1.0246 - val_accuracy: 0.6207\n",
            "Epoch 27/30\n",
            "1688/1688 [==============================] - 4s 3ms/step - loss: 1.3116 - accuracy: 0.5761 - val_loss: 1.0202 - val_accuracy: 0.6590\n",
            "Epoch 28/30\n",
            "1688/1688 [==============================] - 4s 3ms/step - loss: 1.3106 - accuracy: 0.5776 - val_loss: 1.0240 - val_accuracy: 0.6270\n",
            "Epoch 29/30\n",
            "1688/1688 [==============================] - 4s 3ms/step - loss: 1.3349 - accuracy: 0.5772 - val_loss: 1.0338 - val_accuracy: 0.6513\n",
            "Epoch 30/30\n",
            "1688/1688 [==============================] - 4s 3ms/step - loss: 1.3249 - accuracy: 0.5764 - val_loss: 1.0634 - val_accuracy: 0.6070\n"
          ]
        }
      ],
      "source": [
        "nuevos_pesos=[]\n",
        "for element in pesos:\n",
        "  nuevos_pesos.append( np.ones( element.shape ) )\n",
        "modelo_caro.set_weights( nuevos_pesos )\n",
        "modelo_caro.evaluate(img_test, etiquetas_test)\n",
        "modelo_caro.compile(loss=\"sparse_categorical_crossentropy\", metrics=\"accuracy\")\n",
        "logs = modelo_caro.fit(\n",
        "    img_entrenamiento,\n",
        "    etiquetas_entrenamiento,\n",
        "    validation_split=0.1,\n",
        "    epochs=30\n",
        ")"
      ]
    },
    {
      "cell_type": "code",
      "execution_count": null,
      "metadata": {
        "colab": {
          "base_uri": "https://localhost:8080/",
          "height": 284
        },
        "id": "JkPGTT1tdNN4",
        "outputId": "2e8289a2-f79a-4f27-94c4-f3fcfd7d6f0d"
      },
      "outputs": [
        {
          "data": {
            "text/plain": [
              "[<matplotlib.lines.Line2D at 0x7f49f4d27c90>]"
            ]
          },
          "execution_count": 15,
          "metadata": {},
          "output_type": "execute_result"
        },
        {
          "data": {
            "image/png": "[encoded data removed]",
            "text/plain": [
              "<Figure size 432x288 with 1 Axes>"
            ]
          },
          "metadata": {},
          "output_type": "display_data"
        }
      ],
      "source": [
        "plt.plot(logs.history[\"accuracy\"])\n",
        "plt.plot(logs.history[\"val_accuracy\"])"
      ]
    },
    {
      "cell_type": "code",
      "execution_count": null,
      "metadata": {
        "colab": {
          "base_uri": "https://localhost:8080/",
          "height": 284
        },
        "id": "4NLwc1y_dzdn",
        "outputId": "315c63ed-6588-48be-eb31-86095d1c0670"
      },
      "outputs": [
        {
          "data": {
            "text/plain": [
              "[<matplotlib.lines.Line2D at 0x7f49f8f6afd0>]"
            ]
          },
          "execution_count": 16,
          "metadata": {},
          "output_type": "execute_result"
        },
        {
          "data": {
            "image/png": "[encoded data removed]",
            "text/plain": [
              "<Figure size 432x288 with 1 Axes>"
            ]
          },
          "metadata": {},
          "output_type": "display_data"
        }
      ],
      "source": [
        "plt.plot(logs.history[\"loss\"])\n",
        "plt.plot(logs.history[\"val_loss\"])"
      ]
    },
    {
      "cell_type": "code",
      "execution_count": null,
      "metadata": {
        "colab": {
          "base_uri": "https://localhost:8080/"
        },
        "id": "JxD62hGHd5EB",
        "outputId": "f0870ea7-0753-48f1-b369-d2027a50df81"
      },
      "outputs": [
        {
          "name": "stdout",
          "output_type": "stream",
          "text": [
            "313/313 [==============================] - 1s 2ms/step - loss: 14905.3564 - accuracy: 0.1000\n",
            "Epoch 1/30\n",
            "1688/1688 [==============================] - 5s 3ms/step - loss: 1247.2085 - accuracy: 0.1308 - val_loss: 1.9547 - val_accuracy: 0.2760\n",
            "Epoch 2/30\n",
            "1688/1688 [==============================] - 4s 2ms/step - loss: 1.9379 - accuracy: 0.2895 - val_loss: 1.3057 - val_accuracy: 0.5100\n",
            "Epoch 3/30\n",
            "1688/1688 [==============================] - 4s 2ms/step - loss: 1.6027 - accuracy: 0.3956 - val_loss: 1.2040 - val_accuracy: 0.5227\n",
            "Epoch 4/30\n",
            "1688/1688 [==============================] - 4s 2ms/step - loss: 1.5234 - accuracy: 0.4235 - val_loss: 1.1927 - val_accuracy: 0.5207\n",
            "Epoch 5/30\n",
            "1688/1688 [==============================] - 4s 3ms/step - loss: 1.4823 - accuracy: 0.4335 - val_loss: 1.1752 - val_accuracy: 0.5365\n",
            "Epoch 6/30\n",
            "1688/1688 [==============================] - 5s 3ms/step - loss: 1.4645 - accuracy: 0.4389 - val_loss: 1.1612 - val_accuracy: 0.5345\n",
            "Epoch 7/30\n",
            "1688/1688 [==============================] - 5s 3ms/step - loss: 1.4761 - accuracy: 0.4418 - val_loss: 1.1463 - val_accuracy: 0.5355\n",
            "Epoch 8/30\n",
            "1688/1688 [==============================] - 4s 3ms/step - loss: 1.4548 - accuracy: 0.4484 - val_loss: 1.1524 - val_accuracy: 0.5365\n",
            "Epoch 9/30\n",
            "1688/1688 [==============================] - 5s 3ms/step - loss: 1.4435 - accuracy: 0.4514 - val_loss: 1.1755 - val_accuracy: 0.5367\n",
            "Epoch 10/30\n",
            "1688/1688 [==============================] - 5s 3ms/step - loss: 1.4344 - accuracy: 0.4536 - val_loss: 1.1853 - val_accuracy: 0.5282\n",
            "Epoch 11/30\n",
            "1688/1688 [==============================] - 4s 3ms/step - loss: 1.4229 - accuracy: 0.4611 - val_loss: 1.1677 - val_accuracy: 0.5472\n",
            "Epoch 12/30\n",
            "1688/1688 [==============================] - 4s 3ms/step - loss: 1.4179 - accuracy: 0.4607 - val_loss: 1.2051 - val_accuracy: 0.5498\n",
            "Epoch 13/30\n",
            "1688/1688 [==============================] - 4s 2ms/step - loss: 1.4094 - accuracy: 0.4651 - val_loss: 1.1591 - val_accuracy: 0.5330\n",
            "Epoch 14/30\n",
            "1688/1688 [==============================] - 4s 2ms/step - loss: 1.4192 - accuracy: 0.4656 - val_loss: 1.1671 - val_accuracy: 0.5405\n",
            "Epoch 15/30\n",
            "1688/1688 [==============================] - 5s 3ms/step - loss: 1.4312 - accuracy: 0.4655 - val_loss: 1.1465 - val_accuracy: 0.5413\n",
            "Epoch 16/30\n",
            "1688/1688 [==============================] - 4s 3ms/step - loss: 1.4009 - accuracy: 0.4683 - val_loss: 1.1521 - val_accuracy: 0.5438\n",
            "Epoch 17/30\n",
            "1688/1688 [==============================] - 4s 3ms/step - loss: 1.3964 - accuracy: 0.4699 - val_loss: 1.1885 - val_accuracy: 0.5508\n",
            "Epoch 18/30\n",
            "1688/1688 [==============================] - 4s 3ms/step - loss: 1.4278 - accuracy: 0.4681 - val_loss: 1.1476 - val_accuracy: 0.5148\n",
            "Epoch 19/30\n",
            "1688/1688 [==============================] - 4s 3ms/step - loss: 1.4334 - accuracy: 0.4696 - val_loss: 1.1621 - val_accuracy: 0.5425\n",
            "Epoch 20/30\n",
            "1688/1688 [==============================] - 4s 3ms/step - loss: 1.4131 - accuracy: 0.4674 - val_loss: 1.1562 - val_accuracy: 0.5313\n",
            "Epoch 21/30\n",
            "1688/1688 [==============================] - 4s 3ms/step - loss: 1.4236 - accuracy: 0.4681 - val_loss: 1.1732 - val_accuracy: 0.5342\n",
            "Epoch 22/30\n",
            "1688/1688 [==============================] - 4s 2ms/step - loss: 1.4265 - accuracy: 0.4688 - val_loss: 1.1788 - val_accuracy: 0.5348\n",
            "Epoch 23/30\n",
            "1688/1688 [==============================] - 5s 3ms/step - loss: 1.4530 - accuracy: 0.4672 - val_loss: 1.1827 - val_accuracy: 0.5388\n",
            "Epoch 24/30\n",
            "1688/1688 [==============================] - 4s 2ms/step - loss: 1.4243 - accuracy: 0.4696 - val_loss: 1.1729 - val_accuracy: 0.5405\n",
            "Epoch 25/30\n",
            "1688/1688 [==============================] - 4s 2ms/step - loss: 1.4551 - accuracy: 0.4723 - val_loss: 1.1666 - val_accuracy: 0.5428\n",
            "Epoch 26/30\n",
            "1688/1688 [==============================] - 4s 3ms/step - loss: 1.4333 - accuracy: 0.4712 - val_loss: 1.1767 - val_accuracy: 0.5403\n",
            "Epoch 27/30\n",
            "1688/1688 [==============================] - 4s 3ms/step - loss: 1.4313 - accuracy: 0.4727 - val_loss: 1.1876 - val_accuracy: 0.5398\n",
            "Epoch 28/30\n",
            "1688/1688 [==============================] - 4s 3ms/step - loss: 1.4187 - accuracy: 0.4721 - val_loss: 1.1475 - val_accuracy: 0.5520\n",
            "Epoch 29/30\n",
            "1688/1688 [==============================] - 4s 3ms/step - loss: 1.4141 - accuracy: 0.4760 - val_loss: 1.2100 - val_accuracy: 0.5283\n",
            "Epoch 30/30\n",
            "1688/1688 [==============================] - 4s 2ms/step - loss: 1.4591 - accuracy: 0.4744 - val_loss: 1.2604 - val_accuracy: 0.5247\n"
          ]
        }
      ],
      "source": [
        "nuevos_pesos=[]\n",
        "for element in pesos:\n",
        "  nuevos_pesos.append( np.random.random( element.shape ) )\n",
        "modelo_caro.set_weights( nuevos_pesos )\n",
        "modelo_caro.evaluate(img_test, etiquetas_test)\n",
        "modelo_caro.compile(loss=\"sparse_categorical_crossentropy\", metrics=\"accuracy\")\n",
        "logs = modelo_caro.fit(\n",
        "    img_entrenamiento,\n",
        "    etiquetas_entrenamiento,\n",
        "    validation_split=0.1,\n",
        "    epochs=30\n",
        ")"
      ]
    },
    {
      "cell_type": "code",
      "execution_count": null,
      "metadata": {
        "colab": {
          "base_uri": "https://localhost:8080/",
          "height": 284
        },
        "id": "p60v7FePeCdF",
        "outputId": "e37e33d6-4dbc-4d87-91da-13fada16a3e6"
      },
      "outputs": [
        {
          "data": {
            "text/plain": [
              "[<matplotlib.lines.Line2D at 0x7f49f4e70690>]"
            ]
          },
          "execution_count": 18,
          "metadata": {},
          "output_type": "execute_result"
        },
        {
          "data": {
            "image/png": "[encoded data removed]",
            "text/plain": [
              "<Figure size 432x288 with 1 Axes>"
            ]
          },
          "metadata": {},
          "output_type": "display_data"
        }
      ],
      "source": [
        "plt.plot(logs.history[\"accuracy\"])\n",
        "plt.plot(logs.history[\"val_accuracy\"])"
      ]
    },
    {
      "cell_type": "code",
      "execution_count": null,
      "metadata": {
        "id": "_WLz9f16e9VD"
      },
      "outputs": [],
      "source": [
        "nuevos_pesos=[]\n",
        "for element in pesos:\n",
        "  nuevos_pesos.append( \n",
        "      np.random.normal(\n",
        "          loc=0., \n",
        "          scale= (2.0/(np.sum(element.shape)))**0.5\n",
        "          ,size= element.shape )\n",
        "       ) #sqrt(2 / (fan_in + fan_out))\n",
        "modelo_caro.set_weights( nuevos_pesos )\n",
        "modelo_caro.evaluate(img_test, etiquetas_test)\n",
        "modelo_caro.compile(loss=\"sparse_categorical_crossentropy\", metrics=\"accuracy\")\n",
        "logs = modelo_caro.fit(\n",
        "    img_entrenamiento,\n",
        "    etiquetas_entrenamiento,\n",
        "    validation_split=0.1,\n",
        "    epochs=30\n",
        ")"
      ]
    },
    {
      "cell_type": "code",
      "execution_count": null,
      "metadata": {
        "id": "9QEIkWHmf9N5"
      },
      "outputs": [],
      "source": [
        ""
      ]
    },
    {
      "cell_type": "markdown",
      "metadata": {
        "id": "F1sJeC-6xEoE"
      },
      "source": [
        "# Transfer Learning"
      ]
    },
    {
      "cell_type": "code",
      "execution_count": null,
      "metadata": {
        "colab": {
          "base_uri": "https://localhost:8080/"
        },
        "id": "7EDjxK9A-faZ",
        "outputId": "60272377-fbd2-47e0-9f3d-286d2909f9be"
      },
      "outputs": [
        {
          "data": {
            "text/plain": [
              "array([[-0.2429, -0.2337,  0.0363,  0.1181,  0.1017, -0.1261,  0.1281,\n",
              "         0.3546, -0.1673,  0.3464],\n",
              "       [-0.2935, -0.241 ,  0.2476,  0.1963,  0.2406, -0.043 ,  0.237 ,\n",
              "        -0.0203, -0.0892, -0.3312]], dtype=float32)"
            ]
          },
          "execution_count": 340,
          "metadata": {},
          "output_type": "execute_result"
        }
      ],
      "source": [
        "modelo_caro.layers[-1].get_weights()[0][:2]"
      ]
    },
    {
      "cell_type": "code",
      "execution_count": null,
      "metadata": {
        "colab": {
          "base_uri": "https://localhost:8080/"
        },
        "id": "2tsY2PiN_D5D",
        "outputId": "8103d784-a272-47a3-bfb0-602ee54b6c79"
      },
      "outputs": [
        {
          "name": "stdout",
          "output_type": "stream",
          "text": [
            "1875/1875 [==============================] - 4s 2ms/step - loss: 0.8058 - accuracy: 0.7094\n"
          ]
        },
        {
          "data": {
            "text/plain": [
              "<keras.callbacks.History at 0x7f49f67634d0>"
            ]
          },
          "execution_count": 83,
          "metadata": {},
          "output_type": "execute_result"
        }
      ],
      "source": [
        "for capa in modelo_caro.layers:\n",
        "  capa.trainable = False\n",
        "modelo_caro.pop()\n",
        "modelo_caro.add(keras.layers.Dense(30, activation=\"relu\", kernel_regularizer=\"l1\",activity_regularizer=\"l1\"))\n",
        "modelo_caro.add(keras.layers.Dense(10, activation=\"softmax\"))\n",
        "modelo_caro.compile(loss=\"sparse_categorical_crossentropy\",metrics=\"accuracy\")\n",
        "modelo_caro.fit(img_entrenamiento,etiquetas_entrenamiento)"
      ]
    },
    {
      "cell_type": "code",
      "execution_count": null,
      "metadata": {
        "colab": {
          "base_uri": "https://localhost:8080/"
        },
        "id": "ZQYqeJhR_M29",
        "outputId": "15a5298f-20a1-4021-dc96-a757744e067f"
      },
      "outputs": [
        {
          "data": {
            "text/plain": [
              "array([[ 0.11, -0.26,  0.39, -0.19, -0.1 , -0.19,  0.42, -0.62, -0.29,\n",
              "        -0.09],\n",
              "       [ 0.35, -0.47, -0.36, -0.16, -0.42, -0.22,  0.03,  0.35, -0.3 ,\n",
              "         0.12]], dtype=float32)"
            ]
          },
          "execution_count": 84,
          "metadata": {},
          "output_type": "execute_result"
        }
      ],
      "source": [
        "modelo_caro.layers[-1].get_weights()[0][:2]"
      ]
    },
    {
      "cell_type": "code",
      "execution_count": null,
      "metadata": {
        "colab": {
          "base_uri": "https://localhost:8080/"
        },
        "id": "xIQsTm0n_PFG",
        "outputId": "310b307c-4331-4ecf-a2f1-2a762304785a"
      },
      "outputs": [
        {
          "name": "stdout",
          "output_type": "stream",
          "text": [
            "Model: \"sequential_10\"\n",
            "_________________________________________________________________\n",
            " Layer (type)                Output Shape              Param #   \n",
            "=================================================================\n",
            " flatten_10 (Flatten)        (None, 784)               0         \n",
            "                                                                 \n",
            " dense_20 (Dense)            (None, 50)                39250     \n",
            "                                                                 \n",
            " dropout (Dropout)           (None, 50)                0         \n",
            "                                                                 \n",
            " dense_21 (Dense)            (None, 50)                2550      \n",
            "                                                                 \n",
            " dropout_1 (Dropout)         (None, 50)                0         \n",
            "                                                                 \n",
            " dense_16 (Dense)            (None, 30)                1530      \n",
            "                                                                 \n",
            " dense_17 (Dense)            (None, 10)                310       \n",
            "                                                                 \n",
            "=================================================================\n",
            "Total params: 43,640\n",
            "Trainable params: 1,840\n",
            "Non-trainable params: 41,800\n",
            "_________________________________________________________________\n"
          ]
        }
      ],
      "source": [
        "modelo_caro.summary()"
      ]
    },
    {
      "cell_type": "code",
      "execution_count": null,
      "metadata": {
        "colab": {
          "base_uri": "https://localhost:8080/"
        },
        "id": "M0M1YduHAfML",
        "outputId": "7979a1ff-77ee-479f-8c92-21cf2bdd6fc8"
      },
      "outputs": [
        {
          "name": "stdout",
          "output_type": "stream",
          "text": [
            "313/313 [==============================] - 1s 2ms/step - loss: 0.4880 - accuracy: 0.8250\n"
          ]
        },
        {
          "data": {
            "text/plain": [
              "[0.4879935085773468, 0.824999988079071]"
            ]
          },
          "execution_count": 86,
          "metadata": {},
          "output_type": "execute_result"
        }
      ],
      "source": [
        "modelo_caro.evaluate(img_test,etiquetas_test)"
      ]
    },
    {
      "cell_type": "markdown",
      "metadata": {
        "id": "PzydcpR-uExd"
      },
      "source": [
        "## Funciones de activaciones\n"
      ]
    },
    {
      "cell_type": "code",
      "execution_count": null,
      "metadata": {
        "id": "2DxpE_PnuHH0"
      },
      "outputs": [],
      "source": [
        "x = np.linspace(-10,10,100)"
      ]
    },
    {
      "cell_type": "code",
      "execution_count": null,
      "metadata": {
        "colab": {
          "base_uri": "https://localhost:8080/",
          "height": 284
        },
        "id": "bVftcWunuOwH",
        "outputId": "736fa698-0a27-46a3-a59d-f43a61c8ae27"
      },
      "outputs": [
        {
          "data": {
            "text/plain": [
              "[<matplotlib.lines.Line2D at 0x7f49e8bd9a50>]"
            ]
          },
          "execution_count": 329,
          "metadata": {},
          "output_type": "execute_result"
        },
        {
          "data": {
            "image/png": "[encoded data removed]",
            "text/plain": [
              "<Figure size 432x288 with 1 Axes>"
            ]
          },
          "metadata": {},
          "output_type": "display_data"
        }
      ],
      "source": [
        "relu = [ max(e,0) for e in x]\n",
        "plt.plot(x,relu)"
      ]
    },
    {
      "cell_type": "code",
      "execution_count": null,
      "metadata": {
        "colab": {
          "base_uri": "https://localhost:8080/",
          "height": 284
        },
        "id": "szVD5jJIucat",
        "outputId": "dad6a4a9-b780-4f21-fe97-c7464dd274b0"
      },
      "outputs": [
        {
          "data": {
            "text/plain": [
              "[<matplotlib.lines.Line2D at 0x7f49e8b4b910>]"
            ]
          },
          "execution_count": 330,
          "metadata": {},
          "output_type": "execute_result"
        },
        {
          "data": {
            "image/png": "[encoded data removed]",
            "text/plain": [
              "<Figure size 432x288 with 1 Axes>"
            ]
          },
          "metadata": {},
          "output_type": "display_data"
        }
      ],
      "source": [
        "sigmoide = 1 / (1 + np.exp(-x))\n",
        "plt.plot(x,sigmoide)"
      ]
    },
    {
      "cell_type": "code",
      "execution_count": null,
      "metadata": {
        "colab": {
          "base_uri": "https://localhost:8080/",
          "height": 284
        },
        "id": "OhRYOPm-uzM4",
        "outputId": "1ca40555-c4c3-45a5-dbcc-b8b725960801"
      },
      "outputs": [
        {
          "data": {
            "text/plain": [
              "[<matplotlib.lines.Line2D at 0x7f49e81f8810>]"
            ]
          },
          "execution_count": 331,
          "metadata": {},
          "output_type": "execute_result"
        },
        {
          "data": {
            "image/png": "[encoded data removed]",
            "text/plain": [
              "<Figure size 432x288 with 1 Axes>"
            ]
          },
          "metadata": {},
          "output_type": "display_data"
        }
      ],
      "source": [
        "tanh = np.tanh(x)\n",
        "plt.plot(x,tanh)"
      ]
    },
    {
      "cell_type": "code",
      "execution_count": null,
      "metadata": {
        "colab": {
          "base_uri": "https://localhost:8080/"
        },
        "id": "MF0XQ3ovvFPT",
        "outputId": "3509c525-d750-4cc8-c04c-678d201679f4"
      },
      "outputs": [
        {
          "data": {
            "text/plain": [
              "<tf.Tensor: shape=(1, 5), dtype=float32, numpy=array([[0.    , 0.0001, 0.0059, 0.1185, 0.8755]], dtype=float32)>"
            ]
          },
          "execution_count": 334,
          "metadata": {},
          "output_type": "execute_result"
        }
      ],
      "source": [
        "dataset = tf.constant( [[-1,1,5,8,10]], dtype=tf.float32 )\n",
        "keras.activations.softmax(dataset)"
      ]
    },
    {
      "cell_type": "markdown",
      "metadata": {
        "id": "T-GZnfbLkmoH"
      },
      "source": [
        "# Optimizando la red"
      ]
    },
    {
      "cell_type": "code",
      "execution_count": null,
      "metadata": {
        "id": "NrYlMuTcl9_s"
      },
      "outputs": [],
      "source": [
        "x = np.linspace(-5,5,200)"
      ]
    },
    {
      "cell_type": "code",
      "execution_count": null,
      "metadata": {
        "colab": {
          "base_uri": "https://localhost:8080/",
          "height": 284
        },
        "id": "CA6nFQFDmxEX",
        "outputId": "53f03dd5-c786-4565-88b6-f06a3d40ea47"
      },
      "outputs": [
        {
          "data": {
            "text/plain": [
              "<matplotlib.collections.PathCollection at 0x7f06a413de10>"
            ]
          },
          "execution_count": 6,
          "metadata": {},
          "output_type": "execute_result"
        },
        {
          "data": {
            "image/png": "[encoded data removed]",
            "text/plain": [
              "<Figure size 432x288 with 1 Axes>"
            ]
          },
          "metadata": {},
          "output_type": "display_data"
        }
      ],
      "source": [
        "plt.scatter(x,x**2,s=5)"
      ]
    },
    {
      "cell_type": "code",
      "execution_count": null,
      "metadata": {
        "colab": {
          "base_uri": "https://localhost:8080/",
          "height": 284
        },
        "id": "YbtQ3zszm258",
        "outputId": "3e124bf1-0593-4ea4-8f2b-998987b26fb8"
      },
      "outputs": [
        {
          "name": "stdout",
          "output_type": "stream",
          "text": [
            "Mejor valor mínimo:  0.030233102\n"
          ]
        },
        {
          "data": {
            "image/png": "[encoded data removed]",
            "text/plain": [
              "<Figure size 432x288 with 1 Axes>"
            ]
          },
          "metadata": {},
          "output_type": "display_data"
        }
      ],
      "source": [
        "sgd = keras.optimizers.SGD(learning_rate=0.8)\n",
        "variable_inicial = tf.Variable(5.0)\n",
        "variables = [variable_inicial.numpy()]\n",
        "for _ in range(10):\n",
        "  sgd.minimize(lambda:variable_inicial**2 ,[variable_inicial])\n",
        "  variables.append(variable_inicial.numpy())\n",
        "variables = np.array(variables)\n",
        "plt.scatter(x,x**2,s=5)\n",
        "plt.plot(variables,variables**2,linewidth=5,c=\"r\")\n",
        "print(\"Mejor valor mínimo: \",variables[-1])"
      ]
    },
    {
      "cell_type": "code",
      "execution_count": null,
      "metadata": {
        "colab": {
          "base_uri": "https://localhost:8080/",
          "height": 284
        },
        "id": "Xj5E0hlltejW",
        "outputId": "81d4ad10-9653-47ff-8643-1e8f9b033e39"
      },
      "outputs": [
        {
          "name": "stdout",
          "output_type": "stream",
          "text": [
            "Mejor valor mínimo:  -7.9585766e-35\n"
          ]
        },
        {
          "data": {
            "image/png": "[encoded data removed]",
            "text/plain": [
              "<Figure size 432x288 with 1 Axes>"
            ]
          },
          "metadata": {},
          "output_type": "display_data"
        }
      ],
      "source": [
        "sgd = keras.optimizers.SGD(learning_rate=0.8, momentum=0.2)\n",
        "variable_inicial = tf.Variable(5.0)\n",
        "variables = [variable_inicial.numpy()]\n",
        "for _ in range(100):\n",
        "  sgd.minimize(lambda:variable_inicial**2 ,[variable_inicial])\n",
        "  variables.append(variable_inicial.numpy())\n",
        "variables = np.array(variables)\n",
        "plt.scatter(x,x**2,s=5)\n",
        "plt.plot(variables,variables**2,linewidth=5,c=\"r\")\n",
        "print(\"Mejor valor mínimo: \",variables[-1])"
      ]
    },
    {
      "cell_type": "code",
      "execution_count": null,
      "metadata": {
        "colab": {
          "base_uri": "https://localhost:8080/",
          "height": 284
        },
        "id": "_I2LBxZRyBH6",
        "outputId": "c4a10eac-5732-4c34-9304-1725f5deab70"
      },
      "outputs": [
        {
          "name": "stdout",
          "output_type": "stream",
          "text": [
            "Mejor valor mínimo:  0.0011536886\n"
          ]
        },
        {
          "data": {
            "image/png": "[encoded data removed]",
            "text/plain": [
              "<Figure size 432x288 with 1 Axes>"
            ]
          },
          "metadata": {},
          "output_type": "display_data"
        }
      ],
      "source": [
        "sgd = keras.optimizers.RMSprop(learning_rate=0.8)\n",
        "variable_inicial = tf.Variable(5.0)\n",
        "variables = [variable_inicial.numpy()]\n",
        "for _ in range(10):\n",
        "  sgd.minimize(lambda:variable_inicial**2 ,[variable_inicial])\n",
        "  variables.append(variable_inicial.numpy())\n",
        "variables = np.array(variables)\n",
        "plt.scatter(x,x**2,s=5)\n",
        "plt.plot(variables,variables**2,linewidth=5,c=\"r\")\n",
        "print(\"Mejor valor mínimo: \",variables[-1])"
      ]
    },
    {
      "cell_type": "code",
      "execution_count": null,
      "metadata": {
        "colab": {
          "base_uri": "https://localhost:8080/",
          "height": 284
        },
        "id": "h8_vAmSQyP_B",
        "outputId": "dc2f1ecc-5b77-43f7-df5d-1c093c9d9e9c"
      },
      "outputs": [
        {
          "name": "stdout",
          "output_type": "stream",
          "text": [
            "Mejor valor mínimo:  -0.03900388\n"
          ]
        },
        {
          "data": {
            "image/png": "[encoded data removed]",
            "text/plain": [
              "<Figure size 432x288 with 1 Axes>"
            ]
          },
          "metadata": {},
          "output_type": "display_data"
        }
      ],
      "source": [
        "sgd = keras.optimizers.Adam(learning_rate=0.1)\n",
        "variable_inicial = tf.Variable(5.0)\n",
        "variables = [variable_inicial.numpy()]\n",
        "for _ in range(100):\n",
        "  sgd.minimize(lambda:variable_inicial**2 ,[variable_inicial])\n",
        "  variables.append(variable_inicial.numpy())\n",
        "variables = np.array(variables)\n",
        "plt.scatter(x,x**2,s=5)\n",
        "plt.plot(variables,variables**2,linewidth=5,c=\"r\")\n",
        "print(\"Mejor valor mínimo: \",variables[-1])"
      ]
    },
    {
      "cell_type": "markdown",
      "metadata": {
        "id": "Sr1tbH5l-IwU"
      },
      "source": [
        "## Optimizacion de pesos"
      ]
    },
    {
      "cell_type": "code",
      "execution_count": null,
      "metadata": {
        "colab": {
          "base_uri": "https://localhost:8080/"
        },
        "id": "D6oLz8SX-Q3H",
        "outputId": "8d8a2bac-d7af-4be7-eb4b-c70584884e23"
      },
      "outputs": [
        {
          "data": {
            "text/plain": [
              "(array([ 0,  1,  2,  3,  4,  5,  6,  7,  8,  9, 10, 11, 12, 13, 14, 15, 16,\n",
              "        17, 18, 19]),\n",
              " array([ 1,  3,  5,  7,  9, 11, 13, 15, 17, 19, 21, 23, 25, 27, 29, 31, 33,\n",
              "        35, 37, 39]))"
            ]
          },
          "execution_count": 3,
          "metadata": {},
          "output_type": "execute_result"
        }
      ],
      "source": [
        "dataset = np.array( range(20) )\n",
        "etiquetas = dataset*2+1\n",
        "dataset,etiquetas"
      ]
    },
    {
      "cell_type": "code",
      "execution_count": null,
      "metadata": {
        "colab": {
          "base_uri": "https://localhost:8080/"
        },
        "id": "qHXWTmEk-h9S",
        "outputId": "c11bda2f-b434-4eb1-cd05-433cd810a745"
      },
      "outputs": [
        {
          "name": "stdout",
          "output_type": "stream",
          "text": [
            "[array([[-0.4862]], dtype=float32), array([0.], dtype=float32)]\n"
          ]
        }
      ],
      "source": [
        "nano = keras.Sequential()\n",
        "nano.add(keras.layers.Dense(1,input_shape=(1,)))\n",
        "print(nano.get_weights())"
      ]
    },
    {
      "cell_type": "code",
      "execution_count": null,
      "metadata": {
        "colab": {
          "base_uri": "https://localhost:8080/"
        },
        "id": "ymmE9opv-vQa",
        "outputId": "4cf22806-8773-4ed3-9a05-67449e6839d7"
      },
      "outputs": [
        {
          "name": "stdout",
          "output_type": "stream",
          "text": [
            "1/1 [==============================] - 0s 378ms/step - loss: 811.6301\n",
            "[array([[5.8447]], dtype=float32), array([0.4924], dtype=float32)]\n"
          ]
        }
      ],
      "source": [
        "nano.compile(loss=\"mse\", optimizer=\"sgd\")\n",
        "nano.fit(dataset,etiquetas)\n",
        "print(nano.get_weights())"
      ]
    },
    {
      "cell_type": "code",
      "execution_count": null,
      "metadata": {
        "colab": {
          "base_uri": "https://localhost:8080/"
        },
        "id": "h9jBYYG7-_2Q",
        "outputId": "63a4c327-09b9-4abf-86fb-8a79902fb2d5"
      },
      "outputs": [
        {
          "data": {
            "text/plain": [
              "811.61481934"
            ]
          },
          "execution_count": 8,
          "metadata": {},
          "output_type": "execute_result"
        }
      ],
      "source": [
        "w=-0.4862\n",
        "b=0.0\n",
        "error= etiquetas - (dataset*w+b)\n",
        "mse = np.average(error**2)\n",
        "mse"
      ]
    },
    {
      "cell_type": "code",
      "execution_count": null,
      "metadata": {
        "colab": {
          "base_uri": "https://localhost:8080/"
        },
        "id": "LEwD_fbB_z8d",
        "outputId": "e4c82872-f92a-43ea-d180-a2dde1b41d42"
      },
      "outputs": [
        {
          "data": {
            "text/plain": [
              "array([5.8447, 0.4924], dtype=float32)"
            ]
          },
          "execution_count": 9,
          "metadata": {},
          "output_type": "execute_result"
        }
      ],
      "source": [
        "sgd = keras.optimizers.SGD()\n",
        "w_b = tf.Variable([w,b])\n",
        "sgd.minimize(lambda: tf.math.reduce_mean((etiquetas - (dataset*w_b[0]+w_b[1]))**2) ,w_b)\n",
        "w_b.numpy()"
      ]
    },
    {
      "cell_type": "markdown",
      "metadata": {
        "id": "xs_f26dVBNIj"
      },
      "source": [
        "### Optimizando varias épocas"
      ]
    },
    {
      "cell_type": "code",
      "execution_count": null,
      "metadata": {
        "colab": {
          "base_uri": "https://localhost:8080/"
        },
        "id": "jQ99IArZA8UU",
        "outputId": "034d81f2-2899-4127-c08b-f47ad33d563d"
      },
      "outputs": [
        {
          "name": "stdout",
          "output_type": "stream",
          "text": [
            "Pesos al inicio: 1.024098515510559 Bias al inicio_ 0.0\n",
            "Pesos al final: -1.521160421334057e+17 Bias al inicio_ -1.172664584503296e+16\n"
          ]
        }
      ],
      "source": [
        "nano = keras.Sequential()\n",
        "nano.add(keras.layers.Dense(1,input_shape=(1,)))\n",
        "w=nano.get_weights()[0][0][0]\n",
        "b=nano.get_weights()[1][0]\n",
        "print(\"Pesos al inicio: {} Bias al inicio_ {}\".format(w,b))\n",
        "nano.compile(loss=\"mse\", optimizer=\"sgd\")\n",
        "nano.fit(dataset,etiquetas,epochs=100,verbose=0)\n",
        "print(\"Pesos al final: {} Bias al inicio_ {}\".format(nano.get_weights()[0][0][0],nano.get_weights()[1][0]))"
      ]
    },
    {
      "cell_type": "code",
      "execution_count": null,
      "metadata": {
        "colab": {
          "base_uri": "https://localhost:8080/"
        },
        "id": "4qqJ_CJiBX4c",
        "outputId": "33f6aae1-cc82-4d42-bce0-9d4ec78a5036"
      },
      "outputs": [
        {
          "name": "stdout",
          "output_type": "stream",
          "text": [
            "Pesos al inicio: 1.024098515510559 Bias al inicio_ 0.0\n",
            "Pesos al inicio: -1.5211611085288243e+17 Bias al inicio_ -1.172665121374208e+16\n"
          ]
        }
      ],
      "source": [
        "sgd = keras.optimizers.SGD()\n",
        "w_b = tf.Variable([w,b])\n",
        "print(\"Pesos al inicio: {} Bias al inicio_ {}\".format(w,b))\n",
        "for _ in range(100):\n",
        "  sgd.minimize(lambda: tf.math.reduce_mean((etiquetas - (dataset*w_b[0]+w_b[1]))**2) ,w_b)\n",
        "print(\"Pesos al inicio: {} Bias al inicio_ {}\".format(*w_b.numpy()))"
      ]
    },
    {
      "cell_type": "markdown",
      "metadata": {
        "id": "wYh07CC1EbDb"
      },
      "source": [
        "# Modelo Final\n",
        "\n",
        "Funcionces de optimización interesantes:\n",
        "http://www.sfu.ca/~ssurjano/index.html"
      ]
    },
    {
      "cell_type": "markdown",
      "metadata": {
        "id": "bic4ElgEdnX1"
      },
      "source": [
        "## Minimos y maximos locales"
      ]
    },
    {
      "cell_type": "code",
      "execution_count": null,
      "metadata": {
        "id": "QVUNYtsJa1NF"
      },
      "outputs": [],
      "source": [
        "def f_sin(variable,tensorflow=False):\n",
        "  if(tensorflow):\n",
        "    return lambda: tf.math.sin(variable*2)+variable\n",
        "  else:\n",
        "    return np.sin(variable*2)+variable"
      ]
    },
    {
      "cell_type": "code",
      "execution_count": null,
      "metadata": {
        "colab": {
          "base_uri": "https://localhost:8080/",
          "height": 284
        },
        "id": "3JBlToNqZJRf",
        "outputId": "a9105482-6b07-4df6-f927-29b1eca9aa8a"
      },
      "outputs": [
        {
          "data": {
            "text/plain": [
              "<matplotlib.collections.PathCollection at 0x7efd604cfe10>"
            ]
          },
          "execution_count": 22,
          "metadata": {},
          "output_type": "execute_result"
        },
        {
          "data": {
            "image/png": "[encoded data removed]",
            "text/plain": [
              "<Figure size 432x288 with 1 Axes>"
            ]
          },
          "metadata": {},
          "output_type": "display_data"
        }
      ],
      "source": [
        "x = np.linspace(-5,5,200)\n",
        "y = f_sin(x)\n",
        "plt.scatter(x,y,s=5)"
      ]
    },
    {
      "cell_type": "code",
      "execution_count": null,
      "metadata": {
        "colab": {
          "base_uri": "https://localhost:8080/",
          "height": 284
        },
        "id": "Y4uBKsEsbQyo",
        "outputId": "adbecce1-5d98-449e-9d32-7b87f4d78a4b"
      },
      "outputs": [
        {
          "name": "stdout",
          "output_type": "stream",
          "text": [
            "Mejor valor mínimo:  -7.747074\n"
          ]
        },
        {
          "data": {
            "image/png": "[encoded data removed]",
            "text/plain": [
              "<Figure size 432x288 with 1 Axes>"
            ]
          },
          "metadata": {},
          "output_type": "display_data"
        }
      ],
      "source": [
        "sgd = keras.optimizers.RMSprop(learning_rate=0.9)\n",
        "variable_inicial = tf.Variable(5.0)\n",
        "variables = [variable_inicial.numpy()]\n",
        "for _ in range(100):\n",
        "  sgd.minimize(f_sin(variable_inicial,tensorflow=True) ,[variable_inicial])\n",
        "  variables.append(variable_inicial.numpy())\n",
        "variables = np.array(variables)\n",
        "plt.scatter(x,y,s=5)\n",
        "plt.plot(variables,f_sin(variables),linewidth=2,c=\"r\")\n",
        "print(\"Mejor valor mínimo: \",variables[-1])"
      ]
    },
    {
      "cell_type": "markdown",
      "metadata": {
        "id": "roc3cM3pdqp9"
      },
      "source": [
        "## Construcción de la red"
      ]
    },
    {
      "cell_type": "code",
      "execution_count": 61,
      "metadata": {
        "colab": {
          "base_uri": "https://localhost:8080/"
        },
        "id": "DmC0IEqjDQ2I",
        "outputId": "e924cbef-1c4a-4f6a-9ef8-e6ec476ac942"
      },
      "outputs": [
        {
          "output_type": "stream",
          "name": "stdout",
          "text": [
            "[9 0]\n",
            "[[0. 0. 0. 0. 0. 0. 0. 0. 0. 1.]\n",
            " [1. 0. 0. 0. 0. 0. 0. 0. 0. 0.]]\n"
          ]
        }
      ],
      "source": [
        "print(etiquetas_entrenamiento[:2])\n",
        "n_etiquetas = keras.utils.to_categorical(etiquetas_entrenamiento)\n",
        "n_etiquetas_test = keras.utils.to_categorical(etiquetas_test)\n",
        "print(n_etiquetas[:2])"
      ]
    },
    {
      "cell_type": "code",
      "source": [
        "modelo_caro = keras.models.load_model(\"/content/drive/MyDrive/alura/deep_learning_2/modelo_inicial_caro.h5\")\n",
        "modelo_caro.summary()"
      ],
      "metadata": {
        "colab": {
          "base_uri": "https://localhost:8080/"
        },
        "id": "d-pWldokF8K7",
        "outputId": "74971f59-c1f5-4564-d714-fdd8c7fbf755"
      },
      "execution_count": 63,
      "outputs": [
        {
          "output_type": "stream",
          "name": "stdout",
          "text": [
            "Model: \"sequential_10\"\n",
            "_________________________________________________________________\n",
            " Layer (type)                Output Shape              Param #   \n",
            "=================================================================\n",
            " flatten_10 (Flatten)        (None, 784)               0         \n",
            "                                                                 \n",
            " dense_20 (Dense)            (None, 50)                39250     \n",
            "                                                                 \n",
            " dropout (Dropout)           (None, 50)                0         \n",
            "                                                                 \n",
            " dense_21 (Dense)            (None, 50)                2550      \n",
            "                                                                 \n",
            " dropout_1 (Dropout)         (None, 50)                0         \n",
            "                                                                 \n",
            " dense_22 (Dense)            (None, 10)                510       \n",
            "                                                                 \n",
            "=================================================================\n",
            "Total params: 42,310\n",
            "Trainable params: 42,310\n",
            "Non-trainable params: 0\n",
            "_________________________________________________________________\n"
          ]
        }
      ]
    },
    {
      "cell_type": "code",
      "execution_count": 68,
      "metadata": {
        "colab": {
          "base_uri": "https://localhost:8080/"
        },
        "id": "DGaWp5Hl_wXh",
        "outputId": "ffe9d4ec-f1fb-4697-b85d-d2e8bcc8e7f5"
      },
      "outputs": [
        {
          "output_type": "stream",
          "name": "stdout",
          "text": [
            "313/313 [==============================] - 1s 1ms/step - loss: 0.6084 - accuracy: 0.8111\n",
            "Model: \"sequential_10\"\n",
            "_________________________________________________________________\n",
            " Layer (type)                Output Shape              Param #   \n",
            "=================================================================\n",
            " flatten_10 (Flatten)        (None, 784)               0         \n",
            "                                                                 \n",
            " dense_20 (Dense)            (None, 50)                39250     \n",
            "                                                                 \n",
            " dropout (Dropout)           (None, 50)                0         \n",
            "                                                                 \n",
            " dense_21 (Dense)            (None, 50)                2550      \n",
            "                                                                 \n",
            " dropout_1 (Dropout)         (None, 50)                0         \n",
            "                                                                 \n",
            " dense_100 (Dense)           (None, 200)               10200     \n",
            "                                                                 \n",
            " dropout_06 (Dropout)        (None, 200)               0         \n",
            "                                                                 \n",
            " dense_8 (Dense)             (None, 10)                2010      \n",
            "                                                                 \n",
            "=================================================================\n",
            "Total params: 54,010\n",
            "Trainable params: 12,210\n",
            "Non-trainable params: 41,800\n",
            "_________________________________________________________________\n"
          ]
        }
      ],
      "source": [
        "modelo_caro = keras.models.load_model(\"/content/drive/MyDrive/alura/deep_learning_2/modelo_inicial_caro.h5\")\n",
        "modelo_caro.evaluate(img_test,etiquetas_test)\n",
        "for capa in modelo_caro.layers:\n",
        "  capa.trainable = False\n",
        "modelo_caro.pop()\n",
        "modelo_caro.add(keras.layers.Dense(200, activation=\"relu\",activity_regularizer=\"l2\", name=\"dense_100\"))\n",
        "modelo_caro.add(keras.layers.Dropout(0.5, name=\"dropout_06\"))\n",
        "modelo_caro.add(keras.layers.Dense(10, activation=\"softmax\"))\n",
        "modelo_caro.summary()"
      ]
    },
    {
      "cell_type": "code",
      "execution_count": null,
      "metadata": {
        "colab": {
          "base_uri": "https://localhost:8080/"
        },
        "id": "ibfvuB3KADbF",
        "outputId": "eccda6d2-b36f-4987-cd1a-e787ec277ef6"
      },
      "outputs": [
        {
          "name": "stdout",
          "output_type": "stream",
          "text": [
            "Epoch 1/100\n",
            "750/750 [==============================] - 4s 4ms/step - loss: 2.7635 - accuracy: 0.3883 - precision: 0.6190 - recall: 0.1553 - val_loss: 1.2315 - val_accuracy: 0.8089 - val_precision: 0.9897 - val_recall: 0.2953\n",
            "Epoch 2/100\n",
            "750/750 [==============================] - 2s 3ms/step - loss: 1.6598 - accuracy: 0.6225 - precision: 0.8572 - recall: 0.3013 - val_loss: 1.0945 - val_accuracy: 0.8146 - val_precision: 0.9844 - val_recall: 0.3623\n",
            "Epoch 3/100\n",
            "750/750 [==============================] - 2s 3ms/step - loss: 1.4139 - accuracy: 0.6775 - precision: 0.8752 - recall: 0.3706 - val_loss: 0.9801 - val_accuracy: 0.8188 - val_precision: 0.9767 - val_recall: 0.4577\n",
            "Epoch 4/100\n",
            "750/750 [==============================] - 2s 3ms/step - loss: 1.2911 - accuracy: 0.6941 - precision: 0.8736 - recall: 0.4189 - val_loss: 0.8970 - val_accuracy: 0.8222 - val_precision: 0.9674 - val_recall: 0.5270\n",
            "Epoch 5/100\n",
            "750/750 [==============================] - 2s 3ms/step - loss: 1.2003 - accuracy: 0.7101 - precision: 0.8766 - recall: 0.4574 - val_loss: 0.8185 - val_accuracy: 0.8242 - val_precision: 0.9549 - val_recall: 0.5818\n",
            "Epoch 6/100\n",
            "750/750 [==============================] - 2s 3ms/step - loss: 1.1258 - accuracy: 0.7207 - precision: 0.8746 - recall: 0.4876 - val_loss: 0.7616 - val_accuracy: 0.8251 - val_precision: 0.9446 - val_recall: 0.6219\n",
            "Epoch 7/100\n",
            "750/750 [==============================] - 2s 3ms/step - loss: 1.0727 - accuracy: 0.7232 - precision: 0.8708 - recall: 0.5110 - val_loss: 0.7239 - val_accuracy: 0.8267 - val_precision: 0.9413 - val_recall: 0.6373\n",
            "Epoch 8/100\n",
            "750/750 [==============================] - 2s 3ms/step - loss: 1.0268 - accuracy: 0.7310 - precision: 0.8680 - recall: 0.5299 - val_loss: 0.6935 - val_accuracy: 0.8286 - val_precision: 0.9369 - val_recall: 0.6522\n",
            "Epoch 9/100\n",
            "750/750 [==============================] - 2s 3ms/step - loss: 0.9895 - accuracy: 0.7319 - precision: 0.8678 - recall: 0.5422 - val_loss: 0.6684 - val_accuracy: 0.8312 - val_precision: 0.9349 - val_recall: 0.6628\n",
            "Epoch 10/100\n",
            "750/750 [==============================] - 2s 3ms/step - loss: 0.9585 - accuracy: 0.7354 - precision: 0.8646 - recall: 0.5544 - val_loss: 0.6458 - val_accuracy: 0.8319 - val_precision: 0.9299 - val_recall: 0.6783\n",
            "Epoch 11/100\n",
            "750/750 [==============================] - 2s 2ms/step - loss: 0.9313 - accuracy: 0.7361 - precision: 0.8610 - recall: 0.5649 - val_loss: 0.6298 - val_accuracy: 0.8313 - val_precision: 0.9260 - val_recall: 0.6822\n",
            "Epoch 12/100\n",
            "750/750 [==============================] - 2s 3ms/step - loss: 0.9038 - accuracy: 0.7410 - precision: 0.8614 - recall: 0.5788 - val_loss: 0.6127 - val_accuracy: 0.8322 - val_precision: 0.9198 - val_recall: 0.6972\n",
            "Epoch 13/100\n",
            "750/750 [==============================] - 2s 3ms/step - loss: 0.8837 - accuracy: 0.7408 - precision: 0.8593 - recall: 0.5890 - val_loss: 0.6007 - val_accuracy: 0.8335 - val_precision: 0.9178 - val_recall: 0.7082\n",
            "Epoch 14/100\n",
            "750/750 [==============================] - 2s 3ms/step - loss: 0.8675 - accuracy: 0.7424 - precision: 0.8543 - recall: 0.5930 - val_loss: 0.5908 - val_accuracy: 0.8329 - val_precision: 0.9137 - val_recall: 0.7075\n",
            "Epoch 15/100\n",
            "750/750 [==============================] - 2s 3ms/step - loss: 0.8522 - accuracy: 0.7422 - precision: 0.8545 - recall: 0.6017 - val_loss: 0.5861 - val_accuracy: 0.8350 - val_precision: 0.9154 - val_recall: 0.7101\n",
            "Epoch 16/100\n",
            "750/750 [==============================] - 2s 3ms/step - loss: 0.8414 - accuracy: 0.7445 - precision: 0.8539 - recall: 0.6062 - val_loss: 0.5774 - val_accuracy: 0.8357 - val_precision: 0.9123 - val_recall: 0.7173\n",
            "Epoch 17/100\n",
            "750/750 [==============================] - 2s 3ms/step - loss: 0.8288 - accuracy: 0.7450 - precision: 0.8509 - recall: 0.6134 - val_loss: 0.5680 - val_accuracy: 0.8352 - val_precision: 0.9096 - val_recall: 0.7258\n",
            "Epoch 18/100\n",
            "750/750 [==============================] - 2s 2ms/step - loss: 0.8180 - accuracy: 0.7477 - precision: 0.8516 - recall: 0.6195 - val_loss: 0.5642 - val_accuracy: 0.8352 - val_precision: 0.9091 - val_recall: 0.7277\n",
            "Epoch 19/100\n",
            "750/750 [==============================] - 2s 3ms/step - loss: 0.8126 - accuracy: 0.7477 - precision: 0.8464 - recall: 0.6209 - val_loss: 0.5606 - val_accuracy: 0.8355 - val_precision: 0.9081 - val_recall: 0.7333\n",
            "Epoch 20/100\n",
            "750/750 [==============================] - 2s 3ms/step - loss: 0.8036 - accuracy: 0.7452 - precision: 0.8472 - recall: 0.6220 - val_loss: 0.5546 - val_accuracy: 0.8363 - val_precision: 0.9061 - val_recall: 0.7398\n",
            "Epoch 21/100\n",
            "750/750 [==============================] - 2s 3ms/step - loss: 0.7945 - accuracy: 0.7477 - precision: 0.8454 - recall: 0.6326 - val_loss: 0.5498 - val_accuracy: 0.8357 - val_precision: 0.9049 - val_recall: 0.7429\n",
            "Epoch 22/100\n",
            "750/750 [==============================] - 2s 3ms/step - loss: 0.7881 - accuracy: 0.7485 - precision: 0.8458 - recall: 0.6343 - val_loss: 0.5472 - val_accuracy: 0.8362 - val_precision: 0.9052 - val_recall: 0.7462\n",
            "Epoch 23/100\n",
            "750/750 [==============================] - 2s 3ms/step - loss: 0.7828 - accuracy: 0.7472 - precision: 0.8414 - recall: 0.6365 - val_loss: 0.5447 - val_accuracy: 0.8355 - val_precision: 0.9033 - val_recall: 0.7477\n",
            "Epoch 24/100\n",
            "750/750 [==============================] - 2s 3ms/step - loss: 0.7797 - accuracy: 0.7484 - precision: 0.8419 - recall: 0.6374 - val_loss: 0.5415 - val_accuracy: 0.8366 - val_precision: 0.9030 - val_recall: 0.7526\n",
            "Epoch 25/100\n",
            "750/750 [==============================] - 2s 3ms/step - loss: 0.7766 - accuracy: 0.7500 - precision: 0.8414 - recall: 0.6415 - val_loss: 0.5374 - val_accuracy: 0.8357 - val_precision: 0.9022 - val_recall: 0.7521\n",
            "Epoch 26/100\n",
            "750/750 [==============================] - 2s 3ms/step - loss: 0.7723 - accuracy: 0.7489 - precision: 0.8392 - recall: 0.6410 - val_loss: 0.5372 - val_accuracy: 0.8352 - val_precision: 0.9015 - val_recall: 0.7555\n",
            "Epoch 27/100\n",
            "750/750 [==============================] - 2s 2ms/step - loss: 0.7683 - accuracy: 0.7519 - precision: 0.8400 - recall: 0.6449 - val_loss: 0.5345 - val_accuracy: 0.8358 - val_precision: 0.9008 - val_recall: 0.7559\n",
            "Epoch 28/100\n",
            "750/750 [==============================] - 2s 3ms/step - loss: 0.7661 - accuracy: 0.7523 - precision: 0.8392 - recall: 0.6463 - val_loss: 0.5341 - val_accuracy: 0.8363 - val_precision: 0.9020 - val_recall: 0.7546\n",
            "Epoch 29/100\n",
            "750/750 [==============================] - 2s 3ms/step - loss: 0.7593 - accuracy: 0.7516 - precision: 0.8383 - recall: 0.6479 - val_loss: 0.5302 - val_accuracy: 0.8356 - val_precision: 0.9004 - val_recall: 0.7590\n",
            "Epoch 30/100\n",
            "750/750 [==============================] - 2s 2ms/step - loss: 0.7573 - accuracy: 0.7535 - precision: 0.8374 - recall: 0.6513 - val_loss: 0.5276 - val_accuracy: 0.8358 - val_precision: 0.8984 - val_recall: 0.7607\n",
            "Epoch 31/100\n",
            "750/750 [==============================] - 2s 3ms/step - loss: 0.7561 - accuracy: 0.7528 - precision: 0.8379 - recall: 0.6521 - val_loss: 0.5278 - val_accuracy: 0.8357 - val_precision: 0.9009 - val_recall: 0.7566\n",
            "Epoch 32/100\n",
            "750/750 [==============================] - 2s 3ms/step - loss: 0.7535 - accuracy: 0.7527 - precision: 0.8391 - recall: 0.6525 - val_loss: 0.5254 - val_accuracy: 0.8360 - val_precision: 0.8989 - val_recall: 0.7654\n",
            "Epoch 33/100\n",
            "750/750 [==============================] - 2s 3ms/step - loss: 0.7545 - accuracy: 0.7530 - precision: 0.8371 - recall: 0.6548 - val_loss: 0.5233 - val_accuracy: 0.8372 - val_precision: 0.8981 - val_recall: 0.7656\n",
            "Epoch 34/100\n",
            "750/750 [==============================] - 3s 3ms/step - loss: 0.7520 - accuracy: 0.7513 - precision: 0.8355 - recall: 0.6543 - val_loss: 0.5235 - val_accuracy: 0.8360 - val_precision: 0.8994 - val_recall: 0.7632\n",
            "Epoch 35/100\n",
            "750/750 [==============================] - 2s 2ms/step - loss: 0.7495 - accuracy: 0.7545 - precision: 0.8370 - recall: 0.6545 - val_loss: 0.5205 - val_accuracy: 0.8372 - val_precision: 0.8974 - val_recall: 0.7701\n",
            "Epoch 36/100\n",
            "750/750 [==============================] - 2s 3ms/step - loss: 0.7443 - accuracy: 0.7547 - precision: 0.8371 - recall: 0.6571 - val_loss: 0.5194 - val_accuracy: 0.8367 - val_precision: 0.8973 - val_recall: 0.7692\n",
            "Epoch 37/100\n",
            "750/750 [==============================] - 3s 3ms/step - loss: 0.7436 - accuracy: 0.7528 - precision: 0.8362 - recall: 0.6572 - val_loss: 0.5177 - val_accuracy: 0.8360 - val_precision: 0.8957 - val_recall: 0.7702\n",
            "Epoch 38/100\n",
            "750/750 [==============================] - 4s 5ms/step - loss: 0.7440 - accuracy: 0.7530 - precision: 0.8347 - recall: 0.6580 - val_loss: 0.5180 - val_accuracy: 0.8356 - val_precision: 0.8961 - val_recall: 0.7686\n",
            "Epoch 39/100\n",
            "750/750 [==============================] - 2s 3ms/step - loss: 0.7389 - accuracy: 0.7547 - precision: 0.8357 - recall: 0.6616 - val_loss: 0.5157 - val_accuracy: 0.8348 - val_precision: 0.8951 - val_recall: 0.7718\n",
            "Epoch 40/100\n",
            "750/750 [==============================] - 2s 3ms/step - loss: 0.7396 - accuracy: 0.7535 - precision: 0.8372 - recall: 0.6601 - val_loss: 0.5134 - val_accuracy: 0.8367 - val_precision: 0.8952 - val_recall: 0.7741\n",
            "Epoch 41/100\n",
            "750/750 [==============================] - 2s 3ms/step - loss: 0.7412 - accuracy: 0.7538 - precision: 0.8346 - recall: 0.6590 - val_loss: 0.5136 - val_accuracy: 0.8361 - val_precision: 0.8939 - val_recall: 0.7754\n",
            "Epoch 42/100\n",
            "750/750 [==============================] - 2s 3ms/step - loss: 0.7432 - accuracy: 0.7554 - precision: 0.8349 - recall: 0.6605 - val_loss: 0.5131 - val_accuracy: 0.8362 - val_precision: 0.8951 - val_recall: 0.7727\n",
            "Epoch 43/100\n",
            "750/750 [==============================] - 2s 3ms/step - loss: 0.7374 - accuracy: 0.7527 - precision: 0.8346 - recall: 0.6614 - val_loss: 0.5140 - val_accuracy: 0.8365 - val_precision: 0.8949 - val_recall: 0.7731\n"
          ]
        },
        {
          "data": {
            "text/plain": [
              "<keras.callbacks.History at 0x7f85c2a77e50>"
            ]
          },
          "execution_count": 22,
          "metadata": {},
          "output_type": "execute_result"
        }
      ],
      "source": [
        "nombre_modelo=\"Final\"\n",
        "log_dir=\"/content/drive/MyDrive/alura/logs_deep_learning_2/{}\".format(nombre_modelo)\n",
        "opt = keras.optimizers.Adam(learning_rate=0.0001)\n",
        "n_etiquetas = keras.utils.to_categorical(etiquetas_entrenamiento)\n",
        "# loss regresión: mae, mse\n",
        "# metrics regresión: root_mean_squared_error\n",
        "\n",
        "callbacks=[\n",
        "          keras.callbacks.TensorBoard(log_dir=log_dir, histogram_freq=1),\n",
        "          keras.callbacks.EarlyStopping(monitor=\"val_accuracy\",patience=10),\n",
        "          keras.callbacks.ModelCheckpoint(filepath=\"/content/drive/MyDrive/alura/deep_learning_2/mi_modelo_2.h5\",\n",
        "                                          save_best_only=True, monitor=\"val_accuracy\")\n",
        "]\n",
        "\n",
        "modelo_caro.compile(optimizer=opt,loss=\"categorical_crossentropy\",metrics=[\"accuracy\",\"Precision\",\"Recall\"])\n",
        "epochs= 100\n",
        "batch_size= 64\n",
        "modelo_caro.fit(img_entrenamiento,n_etiquetas, epochs=epochs, batch_size=batch_size, callbacks=callbacks, validation_split=0.2)"
      ]
    },
    {
      "cell_type": "code",
      "execution_count": null,
      "metadata": {
        "colab": {
          "base_uri": "https://localhost:8080/"
        },
        "id": "FR8rXaKHA52j",
        "outputId": "1af290f9-d543-4cac-a37c-3db409bbaa94"
      },
      "outputs": [
        {
          "name": "stdout",
          "output_type": "stream",
          "text": [
            "313/313 [==============================] - 0s 1ms/step - loss: 0.5309 - accuracy: 0.8277 - precision: 0.8876 - recall: 0.7657\n"
          ]
        },
        {
          "data": {
            "text/plain": [
              "[0.5308758020401001,\n",
              " 0.8277000188827515,\n",
              " 0.8875622749328613,\n",
              " 0.7656999826431274]"
            ]
          },
          "execution_count": 23,
          "metadata": {},
          "output_type": "execute_result"
        }
      ],
      "source": [
        "modelo_final = keras.models.load_model(\"/content/drive/MyDrive/alura/deep_learning_2/mi_modelo_2.h5\")\n",
        "modelo_final.evaluate(img_test,n_etiquetas_test)"
      ]
    }
  ],
  "metadata": {
    "colab": {
      "collapsed_sections": [
        "YtsO7jlFEJgp",
        "yf7mh6XJSTun",
        "F1sJeC-6xEoE",
        "PzydcpR-uExd",
        "T-GZnfbLkmoH",
        "Sr1tbH5l-IwU"
      ],
      "name": "Aula05.ipynb",
      "provenance": [],
      "mount_file_id": "1L6Pm3t1NvNJBH7FOWR4JGlDbAFngpWT1",
      "authorship_tag": "ABX9TyPwMnSZsCN4o99ORlYw1qNF",
      "include_colab_link": true
    },
    "kernelspec": {
      "display_name": "Python 3",
      "name": "python3"
    },
    "language_info": {
      "name": "python"
    }
  },
  "nbformat": 4,
  "nbformat_minor": 0
}